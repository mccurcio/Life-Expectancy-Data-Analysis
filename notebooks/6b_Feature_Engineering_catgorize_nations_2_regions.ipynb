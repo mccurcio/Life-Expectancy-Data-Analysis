{
 "cells": [
  {
   "attachments": {},
   "cell_type": "markdown",
   "id": "0d6eaa04",
   "metadata": {},
   "source": [
    "# Life Expectancy Analysis & Modeling Using WHO, UN data\n",
    "\n",
    "## Feature Engineering\n",
    "\n",
    "To:&nbsp;&nbsp;&nbsp;&nbsp; [Magnimind](https://magnimindacademy.com/)\n",
    "\n",
    "From: Matt Curcio, matt.curcio.us@gmail.com\n",
    "\n",
    "Date: 2023-02-28\n",
    "\n",
    "Re:&nbsp;&nbsp;&nbsp; Categorize countries into regions\n",
    "\n",
    "---\n",
    "\n",
    "## Excutive Summary\n",
    "\n",
    "This notebook simply bins 183 countries into 8 (subjective) regions.\n",
    "\n",
    "This notebook, aligns with the Linux philosphy that programs should do one thing, lol\n",
    "\n",
    "---\n",
    "\n",
    "## Introduction\n",
    "\n",
    "\n",
    "- This list of countries and their regions was found on the site:\n",
    "\n",
    "    https://www.thoughtco.com/official-listing-of-countries-world-region-1435153\n",
    "    \n",
    "- Q. How many coountries in EACH region?\n",
    "\n",
    "\n",
    "- This file utilizes:\n",
    "  \n",
    "  Input: `Clean_LE_Data_Post_EDA_3.csv` \n",
    "\n",
    "  Output: `Clean_LE_Regions.csv`\n"
   ]
  },
  {
   "cell_type": "code",
   "execution_count": 17,
   "id": "bb04b6d3",
   "metadata": {},
   "outputs": [],
   "source": [
    "# Common Python Libraries\n",
    "import numpy as np\n",
    "import pandas as pd\n",
    "import matplotlib.pyplot as plt\n",
    "%matplotlib inline"
   ]
  },
  {
   "cell_type": "code",
   "execution_count": 18,
   "id": "2026d29a",
   "metadata": {},
   "outputs": [],
   "source": [
    "path = '../data/processed/'\n",
    "filename = 'Clean_LE_Data_w_Means_2.csv'\n",
    "\n",
    "df = pd.read_csv(path+filename, header=0)"
   ]
  },
  {
   "attachments": {},
   "cell_type": "markdown",
   "id": "460bb91a",
   "metadata": {},
   "source": [
    "## Display 183 Countries To Check For Spelling Differences"
   ]
  },
  {
   "cell_type": "code",
   "execution_count": 19,
   "id": "fe010053",
   "metadata": {},
   "outputs": [
    {
     "name": "stdout",
     "output_type": "stream",
     "text": [
      "\n",
      "Number of countries evaluated in dataset: 183\n"
     ]
    },
    {
     "data": {
      "text/plain": [
       "array(['Afghanistan', 'Albania', 'Algeria', 'Angola',\n",
       "       'Antigua and Barbuda', 'Argentina', 'Armenia', 'Australia',\n",
       "       'Austria', 'Azerbaijan', 'Bahamas', 'Bahrain', 'Bangladesh',\n",
       "       'Barbados', 'Belarus', 'Belgium', 'Belize', 'Benin', 'Bhutan',\n",
       "       'Bolivia (Plurinational State of)', 'Bosnia and Herzegovina',\n",
       "       'Botswana', 'Brazil', 'Brunei Darussalam', 'Bulgaria',\n",
       "       'Burkina Faso', 'Burundi', \"Côte d'Ivoire\", 'Cabo Verde',\n",
       "       'Cambodia', 'Cameroon', 'Canada', 'Central African Republic',\n",
       "       'Chad', 'Chile', 'China', 'Colombia', 'Comoros', 'Congo',\n",
       "       'Costa Rica', 'Croatia', 'Cuba', 'Cyprus', 'Czechia',\n",
       "       \"Democratic People's Republic of Korea\",\n",
       "       'Democratic Republic of the Congo', 'Denmark', 'Djibouti',\n",
       "       'Dominican Republic', 'Ecuador', 'Egypt', 'El Salvador',\n",
       "       'Equatorial Guinea', 'Eritrea', 'Estonia', 'Ethiopia', 'Fiji',\n",
       "       'Finland', 'France', 'Gabon', 'Gambia', 'Georgia', 'Germany',\n",
       "       'Ghana', 'Greece', 'Grenada', 'Guatemala', 'Guinea',\n",
       "       'Guinea-Bissau', 'Guyana', 'Haiti', 'Honduras', 'Hungary',\n",
       "       'Iceland', 'India', 'Indonesia', 'Iran (Islamic Republic of)',\n",
       "       'Iraq', 'Ireland', 'Israel', 'Italy', 'Jamaica', 'Japan', 'Jordan',\n",
       "       'Kazakhstan', 'Kenya', 'Kiribati', 'Kuwait', 'Kyrgyzstan',\n",
       "       \"Lao People's Democratic Republic\", 'Latvia', 'Lebanon', 'Lesotho',\n",
       "       'Liberia', 'Libya', 'Lithuania', 'Luxembourg', 'Madagascar',\n",
       "       'Malawi', 'Malaysia', 'Maldives', 'Mali', 'Malta', 'Mauritania',\n",
       "       'Mauritius', 'Mexico', 'Micronesia (Federated States of)',\n",
       "       'Mongolia', 'Montenegro', 'Morocco', 'Mozambique', 'Myanmar',\n",
       "       'Namibia', 'Nepal', 'Netherlands', 'New Zealand', 'Nicaragua',\n",
       "       'Niger', 'Nigeria', 'Norway', 'Oman', 'Pakistan', 'Panama',\n",
       "       'Papua New Guinea', 'Paraguay', 'Peru', 'Philippines', 'Poland',\n",
       "       'Portugal', 'Qatar', 'Republic of Korea', 'Republic of Moldova',\n",
       "       'Romania', 'Russian Federation', 'Rwanda', 'Saint Lucia',\n",
       "       'Saint Vincent and the Grenadines', 'Samoa',\n",
       "       'Sao Tome and Principe', 'Saudi Arabia', 'Senegal', 'Serbia',\n",
       "       'Seychelles', 'Sierra Leone', 'Singapore', 'Slovakia', 'Slovenia',\n",
       "       'Solomon Islands', 'Somalia', 'South Africa', 'South Sudan',\n",
       "       'Spain', 'Sri Lanka', 'Sudan', 'Suriname', 'Swaziland', 'Sweden',\n",
       "       'Switzerland', 'Syrian Arab Republic', 'Tajikistan', 'Thailand',\n",
       "       'The former Yugoslav republic of Macedonia', 'Timor-Leste', 'Togo',\n",
       "       'Tonga', 'Trinidad and Tobago', 'Tunisia', 'Turkey',\n",
       "       'Turkmenistan', 'Uganda', 'Ukraine', 'United Arab Emirates',\n",
       "       'United Kingdom of Great Britain and Northern Ireland',\n",
       "       'United Republic of Tanzania', 'United States of America',\n",
       "       'Uruguay', 'Uzbekistan', 'Vanuatu',\n",
       "       'Venezuela (Bolivarian Republic of)', 'Viet Nam', 'Yemen',\n",
       "       'Zambia', 'Zimbabwe'], dtype=object)"
      ]
     },
     "execution_count": 19,
     "metadata": {},
     "output_type": "execute_result"
    }
   ],
   "source": [
    "lst_countries = df.Country.unique()\n",
    "\n",
    "print('\\nNumber of countries evaluated in dataset:', len(lst_countries))\n",
    "\n",
    "lst_countries"
   ]
  },
  {
   "cell_type": "markdown",
   "id": "9821034c",
   "metadata": {},
   "source": [
    "### NOTE 1:\n",
    "\n",
    "- This list of countries and their **EIGHT (8) regions** was found on the site:\n",
    "\n",
    "- https://www.thoughtco.com/official-listing-of-countries-world-region-1435153"
   ]
  },
  {
   "cell_type": "code",
   "execution_count": 20,
   "id": "505bf3d4",
   "metadata": {},
   "outputs": [],
   "source": [
    "Asia = ['Bangladesh','Bhutan','Brunei','Cambodia','China','India','Indonesia','Japan','Kazakhstan',\"Democratic People's Republic of Korea\",'South Korea','Kyrgyzstan',\"Lao People's Democratic Republic\",'Malaysia','Maldives','Mongolia','Myanmar','Nepal','Philippines','Singapore','Sri Lanka','Taiwan','Tajikistan','Thailand','Turkmenistan','Uzbekistan','Viet Nam']"
   ]
  },
  {
   "cell_type": "code",
   "execution_count": 21,
   "id": "378d56e9",
   "metadata": {},
   "outputs": [],
   "source": [
    "M_East_N_Africa = ['Afghanistan','Algeria','Azerbaijan','Bahrain','Egypt',\"Iran (Islamic Republic of)\",'Iraq','Israel','Jordan','Kuwait','Lebanon','Libya','Morocco','Oman','Pakistan','Qatar','Saudi Arabia','Somalia','Syrian Arab Republic','Tunisia','Turkey','United Arab Emirates','Yemen']"
   ]
  },
  {
   "cell_type": "code",
   "execution_count": 22,
   "id": "ad31034c",
   "metadata": {},
   "outputs": [],
   "source": [
    "Europe = ['Albania','Andorra','Armenia','Austria','Belarus','Belgium','Bosnia and Herzegovina','Bulgaria','Croatia','Cyprus','Czech Republic','Denmark','Estonia','Finland','France','Georgia','Germany','Greece','Hungary','Iceland','Ireland','Italy','Kosovo','Latvia','Liechtenstein','Lithuania','Luxembourg','Yugoslav republic of Macedonia','Malta','Republic of Moldova','Monaco','Montenegro','Netherlands','Norway','Poland','Portugal','Romania','Russia','San Marino','Serbia','Slovakia','Slovenia','Spain','Sweden','Switzerland','Ukraine','United Kingdom of Great Britain and Northern Ireland','Vatican City']"
   ]
  },
  {
   "cell_type": "code",
   "execution_count": 23,
   "id": "81729892",
   "metadata": {},
   "outputs": [],
   "source": [
    "N_America = ['Canada','Greenland','Mexico','United States of America']"
   ]
  },
  {
   "cell_type": "code",
   "execution_count": 24,
   "id": "8f56d73b",
   "metadata": {},
   "outputs": [],
   "source": [
    "C_America_Caribbean = ['Antigua and Barbuda','Bahamas','Barbados','Belize','Costa Rica','Cuba','Dominica','Dominican Republic','El Salvador','Grenada','Guatemala','Haiti','Honduras','Jamaica','Nicaragua','Panama','Saint Kitts and Nevis','Saint Lucia','Saint Vincent and the Grenadines','Trinidad and Tobago']"
   ]
  },
  {
   "cell_type": "code",
   "execution_count": 25,
   "id": "1b9bcb09",
   "metadata": {},
   "outputs": [],
   "source": [
    "S_America = ['Argentina','Bolivia','Brazil','Chile','Colombia','Ecuador','Guyana','Paraguay','Peru','Suriname','Uruguay',\"Venezuela (Bolivarian Republic of)\"]"
   ]
  },
  {
   "cell_type": "code",
   "execution_count": 26,
   "id": "8696b3ad",
   "metadata": {},
   "outputs": [],
   "source": [
    "Sub_Saharan_Africa = ['Angola','Benin','Botswana','Burkina Faso','Burundi','Cameroon','Cape Verde','The Central African Republic','Chad','Comoros','Republic of the Congo','Democratic Republic of the Congo','Côte d\\'Ivoire','Djibouti','Equatorial Guinea','Eritrea','Ethiopia','Gabon','Gambia','Ghana','Guinea','Guinea-Bissau','Kenya','Lesotho','Liberia','Madagascar','Malawi','Mali','Mauritania','Mauritius','Mozambique','Namibia','Niger','Nigeria','Rwanda','Sao Tome and Principe','Senegal','Seychelles','Sierra Leone','South Africa','South Sudan','Sudan','Swaziland','Tanzania','Togo','Uganda','Zambia','Zimbabwe']"
   ]
  },
  {
   "cell_type": "code",
   "execution_count": 27,
   "id": "6f7c31a6",
   "metadata": {},
   "outputs": [],
   "source": [
    "Oceania = ['Australia','Timor-Leste','Fiji','Kiribati','Marshall Islands','Micronesia (Federated States of)','Nauru','Niue','New Zealand','Palau','Papua New Guinea','Samoa','Solomon Islands','Tonga','Tuvalu','Vanuatu']"
   ]
  },
  {
   "cell_type": "code",
   "execution_count": 28,
   "id": "3c285567",
   "metadata": {},
   "outputs": [
    {
     "name": "stdout",
     "output_type": "stream",
     "text": [
      "Good Job!\n"
     ]
    }
   ],
   "source": [
    "def country_2_region(country):\n",
    "    \"\"\"Assign a country name a region. There are EIGHT regions:\n",
    "    {'Asia':1,\n",
    "    'M_East_N_Africa':2,\n",
    "    'S_America':3,\n",
    "    'N_America':4,\n",
    "    'Europe':5,\n",
    "    'Oceania':6,\n",
    "    'Sub_Saharan_Africa':7,\n",
    "    'CAmerica_Caribbean':8}\n",
    "    \"\"\"\n",
    "    \n",
    "    region = ''\n",
    "    if country in Asia:\n",
    "        region='Asia'\n",
    "    elif country in M_East_N_Africa:\n",
    "        region='N_Africa'\n",
    "    elif country in S_America:\n",
    "        region='S_America'\n",
    "    elif country in N_America:\n",
    "        region='N_America'\n",
    "    elif country in Europe:\n",
    "        region='Europe'\n",
    "    elif country in Oceania:\n",
    "        region='Oceania'\n",
    "    elif country in Sub_Saharan_Africa:\n",
    "        region='Sub_Sahara'\n",
    "    else: \n",
    "        region='CAmerica_Caribbean'\n",
    "    \n",
    "    return region\n",
    "\n",
    "\n",
    "\n",
    "# Test with assertions\n",
    "\n",
    "assert 'Asia'==country_2_region('Kazakhstan')\n",
    "\n",
    "assert 'N_Africa'==country_2_region('Algeria')\n",
    "\n",
    "assert 'S_America'==country_2_region('Bolivia')\n",
    "\n",
    "assert 'N_America'==country_2_region('Canada')\n",
    "\n",
    "assert 'Europe'==country_2_region('Andorra')\n",
    "\n",
    "assert 'Oceania'==country_2_region('Samoa')\n",
    "\n",
    "assert 'Sub_Sahara'==country_2_region('Botswana')\n",
    "\n",
    "assert 'CAmerica_Caribbean'==country_2_region('Bahamas')\n",
    "\n",
    "print('Good Job!')"
   ]
  },
  {
   "cell_type": "code",
   "execution_count": 29,
   "id": "8dc95b6f",
   "metadata": {},
   "outputs": [
    {
     "data": {
      "text/plain": [
       "array([2, 5, 7, 8, 3, 6, 1, 4])"
      ]
     },
     "execution_count": 29,
     "metadata": {},
     "output_type": "execute_result"
    }
   ],
   "source": [
    "df['Region'] = df['Country'].apply(country_2_region)\n",
    "\n",
    "lst_regions = df.Region.unique()\n",
    "lst_regions"
   ]
  },
  {
   "attachments": {},
   "cell_type": "markdown",
   "id": "8d690ab7",
   "metadata": {},
   "source": [
    "## Save engineered data for analysis"
   ]
  },
  {
   "cell_type": "code",
   "execution_count": 30,
   "id": "a89f5a3b",
   "metadata": {},
   "outputs": [
    {
     "data": {
      "text/html": [
       "<div>\n",
       "<style scoped>\n",
       "    .dataframe tbody tr th:only-of-type {\n",
       "        vertical-align: middle;\n",
       "    }\n",
       "\n",
       "    .dataframe tbody tr th {\n",
       "        vertical-align: top;\n",
       "    }\n",
       "\n",
       "    .dataframe thead th {\n",
       "        text-align: right;\n",
       "    }\n",
       "</style>\n",
       "<table border=\"1\" class=\"dataframe\">\n",
       "  <thead>\n",
       "    <tr style=\"text-align: right;\">\n",
       "      <th></th>\n",
       "      <th>Country</th>\n",
       "      <th>Year</th>\n",
       "      <th>Status</th>\n",
       "      <th>LifeExpectancy</th>\n",
       "      <th>AdultMort</th>\n",
       "      <th>InfD</th>\n",
       "      <th>EtOH</th>\n",
       "      <th>PercExpen</th>\n",
       "      <th>Measles</th>\n",
       "      <th>BMI</th>\n",
       "      <th>lt5yD</th>\n",
       "      <th>Polio</th>\n",
       "      <th>TotalExpen</th>\n",
       "      <th>DTP</th>\n",
       "      <th>HIV</th>\n",
       "      <th>Thin1_19y</th>\n",
       "      <th>Thin5_9y</th>\n",
       "      <th>Income</th>\n",
       "      <th>Education</th>\n",
       "      <th>Region</th>\n",
       "    </tr>\n",
       "  </thead>\n",
       "  <tbody>\n",
       "    <tr>\n",
       "      <th>2923</th>\n",
       "      <td>Zimbabwe</td>\n",
       "      <td>2004</td>\n",
       "      <td>0</td>\n",
       "      <td>44.3</td>\n",
       "      <td>723.0</td>\n",
       "      <td>27</td>\n",
       "      <td>4.36</td>\n",
       "      <td>0.0</td>\n",
       "      <td>31</td>\n",
       "      <td>27.1</td>\n",
       "      <td>42</td>\n",
       "      <td>67.0</td>\n",
       "      <td>7.13</td>\n",
       "      <td>65.0</td>\n",
       "      <td>33.6</td>\n",
       "      <td>9.4</td>\n",
       "      <td>9.4</td>\n",
       "      <td>0.407</td>\n",
       "      <td>9.2</td>\n",
       "      <td>7</td>\n",
       "    </tr>\n",
       "    <tr>\n",
       "      <th>2924</th>\n",
       "      <td>Zimbabwe</td>\n",
       "      <td>2003</td>\n",
       "      <td>0</td>\n",
       "      <td>44.5</td>\n",
       "      <td>715.0</td>\n",
       "      <td>26</td>\n",
       "      <td>4.06</td>\n",
       "      <td>0.0</td>\n",
       "      <td>998</td>\n",
       "      <td>26.7</td>\n",
       "      <td>41</td>\n",
       "      <td>7.0</td>\n",
       "      <td>6.52</td>\n",
       "      <td>68.0</td>\n",
       "      <td>36.7</td>\n",
       "      <td>9.8</td>\n",
       "      <td>9.9</td>\n",
       "      <td>0.418</td>\n",
       "      <td>9.5</td>\n",
       "      <td>7</td>\n",
       "    </tr>\n",
       "    <tr>\n",
       "      <th>2925</th>\n",
       "      <td>Zimbabwe</td>\n",
       "      <td>2002</td>\n",
       "      <td>0</td>\n",
       "      <td>44.8</td>\n",
       "      <td>73.0</td>\n",
       "      <td>25</td>\n",
       "      <td>4.43</td>\n",
       "      <td>0.0</td>\n",
       "      <td>304</td>\n",
       "      <td>26.3</td>\n",
       "      <td>40</td>\n",
       "      <td>73.0</td>\n",
       "      <td>6.53</td>\n",
       "      <td>71.0</td>\n",
       "      <td>39.8</td>\n",
       "      <td>1.2</td>\n",
       "      <td>1.3</td>\n",
       "      <td>0.427</td>\n",
       "      <td>10.0</td>\n",
       "      <td>7</td>\n",
       "    </tr>\n",
       "    <tr>\n",
       "      <th>2926</th>\n",
       "      <td>Zimbabwe</td>\n",
       "      <td>2001</td>\n",
       "      <td>0</td>\n",
       "      <td>45.3</td>\n",
       "      <td>686.0</td>\n",
       "      <td>25</td>\n",
       "      <td>1.72</td>\n",
       "      <td>0.0</td>\n",
       "      <td>529</td>\n",
       "      <td>25.9</td>\n",
       "      <td>39</td>\n",
       "      <td>76.0</td>\n",
       "      <td>6.16</td>\n",
       "      <td>75.0</td>\n",
       "      <td>42.1</td>\n",
       "      <td>1.6</td>\n",
       "      <td>1.7</td>\n",
       "      <td>0.427</td>\n",
       "      <td>9.8</td>\n",
       "      <td>7</td>\n",
       "    </tr>\n",
       "    <tr>\n",
       "      <th>2927</th>\n",
       "      <td>Zimbabwe</td>\n",
       "      <td>2000</td>\n",
       "      <td>0</td>\n",
       "      <td>46.0</td>\n",
       "      <td>665.0</td>\n",
       "      <td>24</td>\n",
       "      <td>1.68</td>\n",
       "      <td>0.0</td>\n",
       "      <td>1483</td>\n",
       "      <td>25.5</td>\n",
       "      <td>39</td>\n",
       "      <td>78.0</td>\n",
       "      <td>7.10</td>\n",
       "      <td>78.0</td>\n",
       "      <td>43.5</td>\n",
       "      <td>11.0</td>\n",
       "      <td>11.2</td>\n",
       "      <td>0.434</td>\n",
       "      <td>9.8</td>\n",
       "      <td>7</td>\n",
       "    </tr>\n",
       "  </tbody>\n",
       "</table>\n",
       "</div>"
      ],
      "text/plain": [
       "       Country  Year  Status  LifeExpectancy  AdultMort  InfD  EtOH  \\\n",
       "2923  Zimbabwe  2004       0            44.3      723.0    27  4.36   \n",
       "2924  Zimbabwe  2003       0            44.5      715.0    26  4.06   \n",
       "2925  Zimbabwe  2002       0            44.8       73.0    25  4.43   \n",
       "2926  Zimbabwe  2001       0            45.3      686.0    25  1.72   \n",
       "2927  Zimbabwe  2000       0            46.0      665.0    24  1.68   \n",
       "\n",
       "      PercExpen  Measles   BMI  lt5yD  Polio  TotalExpen   DTP   HIV  \\\n",
       "2923        0.0       31  27.1     42   67.0        7.13  65.0  33.6   \n",
       "2924        0.0      998  26.7     41    7.0        6.52  68.0  36.7   \n",
       "2925        0.0      304  26.3     40   73.0        6.53  71.0  39.8   \n",
       "2926        0.0      529  25.9     39   76.0        6.16  75.0  42.1   \n",
       "2927        0.0     1483  25.5     39   78.0        7.10  78.0  43.5   \n",
       "\n",
       "      Thin1_19y  Thin5_9y  Income  Education  Region  \n",
       "2923        9.4       9.4   0.407        9.2       7  \n",
       "2924        9.8       9.9   0.418        9.5       7  \n",
       "2925        1.2       1.3   0.427       10.0       7  \n",
       "2926        1.6       1.7   0.427        9.8       7  \n",
       "2927       11.0      11.2   0.434        9.8       7  "
      ]
     },
     "execution_count": 30,
     "metadata": {},
     "output_type": "execute_result"
    }
   ],
   "source": [
    "path = '../data/processed/'\n",
    "filename = 'Clean_LE_Regions.csv'\n",
    "\n",
    "df.to_csv(path+filename, index=False)\n",
    "\n",
    "df.tail(5)"
   ]
  }
 ],
 "metadata": {
  "kernelspec": {
   "display_name": "Python 3 (ipykernel)",
   "language": "python",
   "name": "python3"
  },
  "language_info": {
   "codemirror_mode": {
    "name": "ipython",
    "version": 3
   },
   "file_extension": ".py",
   "mimetype": "text/x-python",
   "name": "python",
   "nbconvert_exporter": "python",
   "pygments_lexer": "ipython3",
   "version": "3.9.16"
  },
  "toc": {
   "base_numbering": 1,
   "nav_menu": {},
   "number_sections": true,
   "sideBar": true,
   "skip_h1_title": true,
   "title_cell": "Table of Contents",
   "title_sidebar": "Contents",
   "toc_cell": true,
   "toc_position": {},
   "toc_section_display": true,
   "toc_window_display": false
  },
  "varInspector": {
   "cols": {
    "lenName": 16,
    "lenType": 16,
    "lenVar": 40
   },
   "kernels_config": {
    "python": {
     "delete_cmd_postfix": "",
     "delete_cmd_prefix": "del ",
     "library": "var_list.py",
     "varRefreshCmd": "print(var_dic_list())"
    },
    "r": {
     "delete_cmd_postfix": ") ",
     "delete_cmd_prefix": "rm(",
     "library": "var_list.r",
     "varRefreshCmd": "cat(var_dic_list()) "
    }
   },
   "position": {
    "height": "264.85px",
    "left": "1390px",
    "right": "20px",
    "top": "120px",
    "width": "350px"
   },
   "types_to_exclude": [
    "module",
    "function",
    "builtin_function_or_method",
    "instance",
    "_Feature"
   ],
   "window_display": false
  },
  "vscode": {
   "interpreter": {
    "hash": "ee253db64471d3bc5400655757329a6a33de9a5ca06cae94740881a9d5095460"
   }
  }
 },
 "nbformat": 4,
 "nbformat_minor": 5
}
