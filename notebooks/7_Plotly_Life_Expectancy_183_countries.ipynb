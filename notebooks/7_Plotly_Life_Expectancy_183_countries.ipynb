{
 "cells": [
  {
   "cell_type": "markdown",
   "id": "0211f74e",
   "metadata": {
    "toc": true
   },
   "source": [
    "<h1>Table of Contents<span class=\"tocSkip\"></span></h1>\n",
    "<div class=\"toc\"><ul class=\"toc-item\"><li><span><a href=\"#Facetting:-Scatter-plots-support-faceting.\" data-toc-modified-id=\"Facetting:-Scatter-plots-support-faceting.-1\"><span class=\"toc-item-num\">1&nbsp;&nbsp;</span>Facetting: Scatter plots support faceting.</a></span></li></ul></div>"
   ]
  },
  {
   "cell_type": "markdown",
   "id": "127449b6",
   "metadata": {},
   "source": [
    "# Life Expectancy_Analysis Graphics\n",
    "\n",
    "To:&nbsp;&nbsp;&nbsp;&nbsp; Magnimind\n",
    "\n",
    "From: Matt Curcio, matt.curcio.ri@gmail.com\n",
    "\n",
    "Date: 2022-1-29\n",
    "\n",
    "Re:&nbsp;&nbsp;&nbsp; Graphics\n",
    "\n",
    "---"
   ]
  },
  {
   "cell_type": "code",
   "execution_count": 1,
   "id": "712c7bc9",
   "metadata": {},
   "outputs": [],
   "source": [
    "import numpy as np\n",
    "import pandas as pd\n",
    "import matplotlib.pyplot as plt\n",
    "%matplotlib inline\n",
    "\n",
    "import plotly.express as px\n",
    "\n",
    "import warnings\n",
    "warnings.simplefilter(action='ignore', category=FutureWarning)\n",
    "\n",
    "#from IPython.display import set_matplotlib_formats\n",
    "#set_matplotlib_formats('png', 'pdf', 'svg')"
   ]
  },
  {
   "cell_type": "code",
   "execution_count": 30,
   "id": "b910614d",
   "metadata": {},
   "outputs": [
    {
     "name": "stdout",
     "output_type": "stream",
     "text": [
      "<class 'pandas.core.frame.DataFrame'>\n",
      "RangeIndex: 2938 entries, 0 to 2937\n",
      "Data columns (total 23 columns):\n",
      " #   Column      Non-Null Count  Dtype   \n",
      "---  ------      --------------  -----   \n",
      " 0   Country     2938 non-null   category\n",
      " 1   Year        2938 non-null   int64   \n",
      " 2   Status      2938 non-null   category\n",
      " 3   LifeExpec   2938 non-null   float64 \n",
      " 4   AdultMort   2938 non-null   float64 \n",
      " 5   InfD        2938 non-null   int64   \n",
      " 6   EtOH        2938 non-null   float64 \n",
      " 7   PercExpen   2938 non-null   float64 \n",
      " 8   HepB        2938 non-null   float64 \n",
      " 9   Measles     2938 non-null   int64   \n",
      " 10  BMI         2938 non-null   float64 \n",
      " 11  lt5yD       2938 non-null   int64   \n",
      " 12  Polio       2938 non-null   float64 \n",
      " 13  TotalExpen  2938 non-null   float64 \n",
      " 14  Diph        2938 non-null   float64 \n",
      " 15  HIV/AIDS    2938 non-null   float64 \n",
      " 16  GDP         2938 non-null   float64 \n",
      " 17  Population  2938 non-null   float64 \n",
      " 18  Thin1_19y   2938 non-null   float64 \n",
      " 19  Thin5_9y    2938 non-null   float64 \n",
      " 20  Income      2938 non-null   float64 \n",
      " 21  Education   2938 non-null   float64 \n",
      " 22  Region      2938 non-null   category\n",
      "dtypes: category(3), float64(16), int64(4)\n",
      "memory usage: 476.7 KB\n"
     ]
    }
   ],
   "source": [
    "path = '../data/processed/'\n",
    "filename = 'regional_data_2-2023-01-18 13:18:55.451573.csv'\n",
    "\n",
    "df = pd.read_csv(path+filename)\n",
    "\n",
    "# Convert vars to categorical\n",
    "df['Country'] = pd.Categorical(df['Country'])\n",
    "df['Status'] = pd.Categorical(df['Status'])\n",
    "df['Region'] = pd.Categorical(df['Region'])\n",
    "\n",
    "df.info()"
   ]
  },
  {
   "cell_type": "code",
   "execution_count": 31,
   "id": "266761ec",
   "metadata": {},
   "outputs": [],
   "source": [
    "# use .groupby() to generate mean for Regions\n",
    "df_region_mean = df.groupby(['Region']).mean()"
   ]
  },
  {
   "cell_type": "code",
   "execution_count": 38,
   "id": "fe9cb9cb",
   "metadata": {},
   "outputs": [],
   "source": [
    "# use .groupby() to generate mean for Regions\n",
    "df_country_mean = df.groupby(['Country']).mean()\n",
    "\n",
    "#sort by Life Expectancy THEN Country-alphabetically\n",
    "df_country_sort = df_country_mean.sort_values(by = ['LifeExpec'])"
   ]
  },
  {
   "cell_type": "code",
   "execution_count": 43,
   "id": "4c91c8dd",
   "metadata": {
    "scrolled": false
   },
   "outputs": [
    {
     "data": {
      "application/vnd.plotly.v1+json": {
       "config": {
        "plotlyServerURL": "https://plot.ly"
       },
       "data": [
        {
         "alignmentgroup": "True",
         "hovertemplate": "LifeExpec=%{marker.color}<br>Country=%{y}<extra></extra>",
         "legendgroup": "",
         "marker": {
          "color": [
           46.1125,
           48.5125,
           48.78125,
           49.01875,
           49.89375,
           50.3875,
           50.3875,
           50.4875,
           51.325,
           51.35625,
           53.31875,
           53.39375,
           53.875,
           53.90625,
           54.01875,
           54.9375,
           55.3125,
           55.36875,
           55.5375,
           55.64375,
           55.6875,
           55.70625,
           56.00625,
           56.0125,
           56.05,
           56.6625,
           56.98125,
           57.48125,
           57.5,
           57.525,
           57.56875,
           58.19375,
           59.04375,
           59.1125,
           59.3125,
           59.4625,
           59.86875,
           60.4,
           60.6875,
           60.75625,
           60.8625,
           61.58125,
           61.68125,
           61.825,
           62.24375,
           62.38125,
           62.56875,
           62.74375,
           62.8,
           63.8625,
           64.2,
           64.34375,
           64.5,
           64.61874999999999,
           64.75625,
           65.15,
           65.1625,
           65.41875,
           65.6375,
           65.8875,
           66.1625,
           66.48125,
           66.65625,
           66.7625,
           67.55625,
           67.575,
           67.70625,
           67.7125,
           67.7625,
           68.03125,
           68.2,
           68.7125,
           69.08125,
           69.19375,
           69.22493169398912,
           69.22493169398912,
           69.22493169398912,
           69.22493169398912,
           69.22493169398912,
           69.22493169398912,
           69.22493169398912,
           69.22493169398912,
           69.22493169398912,
           69.22493169398912,
           69.26875,
           69.3,
           69.90625,
           69.9375,
           69.98125,
           70.08125,
           70.35625,
           70.73125,
           70.85,
           71.06875,
           71.3875,
           71.5,
           71.73125,
           71.74375,
           72.15625,
           72.34375,
           72.375,
           72.4875,
           72.51875,
           72.53125,
           72.7125,
           72.80625,
           72.85,
           72.9875,
           72.99375,
           73.08125,
           73.1125,
           73.2875,
           73.29375,
           73.38125,
           73.3875,
           73.4,
           73.4,
           73.45,
           73.46875,
           73.475,
           73.50625000000001,
           73.6,
           73.61875,
           73.61875,
           73.6625,
           73.73125,
           73.75625,
           73.825,
           73.84375,
           73.85625,
           73.9125,
           73.95625,
           74.05,
           74.1125,
           74.2,
           74.2625,
           74.2875,
           74.29375,
           74.35625,
           74.35625,
           74.5,
           74.725,
           74.75,
           74.775,
           74.84375,
           74.94375,
           75.05625,
           75.15625,
           75.15625,
           75.5375,
           75.65,
           75.7,
           75.71875,
           75.725,
           75.96875,
           76.075,
           76.11875,
           76.4875,
           76.4875,
           76.76875,
           77.03125,
           77.975,
           78.0625,
           78.59375,
           79.25625,
           79.45,
           79.675,
           79.73125,
           79.99375,
           80.15,
           80.3625,
           80.4875,
           80.68125,
           80.7125,
           80.78125,
           80.79375,
           81.13125,
           81.175,
           81.21875,
           81.3,
           81.3375,
           81.475,
           81.48125,
           81.6875,
           81.79375,
           81.8125,
           82.06875,
           82.1875,
           82.21875,
           82.33125,
           82.44375,
           82.51875,
           82.5375
          ],
          "coloraxis": "coloraxis",
          "pattern": {
           "shape": ""
          }
         },
         "name": "",
         "offsetgroup": "",
         "orientation": "h",
         "showlegend": false,
         "textposition": "auto",
         "type": "bar",
         "x": [
          46.1125,
          48.5125,
          48.78125,
          49.01875,
          49.89375,
          50.3875,
          50.3875,
          50.4875,
          51.325,
          51.35625,
          53.31875,
          53.39375,
          53.875,
          53.90625,
          54.01875,
          54.9375,
          55.3125,
          55.36875,
          55.5375,
          55.64375,
          55.6875,
          55.70625,
          56.00625,
          56.0125,
          56.05,
          56.6625,
          56.98125,
          57.48125,
          57.5,
          57.525,
          57.56875,
          58.19375,
          59.04375,
          59.1125,
          59.3125,
          59.4625,
          59.86875,
          60.4,
          60.6875,
          60.75625,
          60.8625,
          61.58125,
          61.68125,
          61.825,
          62.24375,
          62.38125,
          62.56875,
          62.74375,
          62.8,
          63.8625,
          64.2,
          64.34375,
          64.5,
          64.61874999999999,
          64.75625,
          65.15,
          65.1625,
          65.41875,
          65.6375,
          65.8875,
          66.1625,
          66.48125,
          66.65625,
          66.7625,
          67.55625,
          67.575,
          67.70625,
          67.7125,
          67.7625,
          68.03125,
          68.2,
          68.7125,
          69.08125,
          69.19375,
          69.22493169398912,
          69.22493169398912,
          69.22493169398912,
          69.22493169398912,
          69.22493169398912,
          69.22493169398912,
          69.22493169398912,
          69.22493169398912,
          69.22493169398912,
          69.22493169398912,
          69.26875,
          69.3,
          69.90625,
          69.9375,
          69.98125,
          70.08125,
          70.35625,
          70.73125,
          70.85,
          71.06875,
          71.3875,
          71.5,
          71.73125,
          71.74375,
          72.15625,
          72.34375,
          72.375,
          72.4875,
          72.51875,
          72.53125,
          72.7125,
          72.80625,
          72.85,
          72.9875,
          72.99375,
          73.08125,
          73.1125,
          73.2875,
          73.29375,
          73.38125,
          73.3875,
          73.4,
          73.4,
          73.45,
          73.46875,
          73.475,
          73.50625000000001,
          73.6,
          73.61875,
          73.61875,
          73.6625,
          73.73125,
          73.75625,
          73.825,
          73.84375,
          73.85625,
          73.9125,
          73.95625,
          74.05,
          74.1125,
          74.2,
          74.2625,
          74.2875,
          74.29375,
          74.35625,
          74.35625,
          74.5,
          74.725,
          74.75,
          74.775,
          74.84375,
          74.94375,
          75.05625,
          75.15625,
          75.15625,
          75.5375,
          75.65,
          75.7,
          75.71875,
          75.725,
          75.96875,
          76.075,
          76.11875,
          76.4875,
          76.4875,
          76.76875,
          77.03125,
          77.975,
          78.0625,
          78.59375,
          79.25625,
          79.45,
          79.675,
          79.73125,
          79.99375,
          80.15,
          80.3625,
          80.4875,
          80.68125,
          80.7125,
          80.78125,
          80.79375,
          81.13125,
          81.175,
          81.21875,
          81.3,
          81.3375,
          81.475,
          81.48125,
          81.6875,
          81.79375,
          81.8125,
          82.06875,
          82.1875,
          82.21875,
          82.33125,
          82.44375,
          82.51875,
          82.5375
         ],
         "xaxis": "x",
         "y": [
          "Sierra Leone",
          "Central African Republic",
          "Lesotho",
          "Angola",
          "Malawi",
          "Chad",
          "Côte d'Ivoire",
          "Zimbabwe",
          "Swaziland",
          "Nigeria",
          "Somalia",
          "Mozambique",
          "South Sudan",
          "Zambia",
          "Cameroon",
          "Mali",
          "Equatorial Guinea",
          "Guinea-Bissau",
          "Burundi",
          "Burkina Faso",
          "Democratic Republic of the Congo",
          "Uganda",
          "United Republic of Tanzania",
          "Guinea",
          "Botswana",
          "Togo",
          "Niger",
          "Kenya",
          "South Africa",
          "Liberia",
          "Benin",
          "Afghanistan",
          "Congo",
          "Ethiopia",
          "Rwanda",
          "Gambia",
          "Haiti",
          "Namibia",
          "Eritrea",
          "Djibouti",
          "Ghana",
          "Comoros",
          "Papua New Guinea",
          "Sudan",
          "Gabon",
          "Lao People's Democratic Republic",
          "Senegal",
          "Madagascar",
          "Mauritania",
          "Yemen",
          "Myanmar",
          "Cambodia",
          "Pakistan",
          "Turkmenistan",
          "Timor-Leste",
          "Kiribati",
          "Sao Tome and Principe",
          "India",
          "Guyana",
          "Mongolia",
          "Bhutan",
          "Nepal",
          "Tajikistan",
          "Kazakhstan",
          "Indonesia",
          "Philippines",
          "Bolivia (Plurinational State of)",
          "Solomon Islands",
          "Russian Federation",
          "Uzbekistan",
          "Micronesia (Federated States of)",
          "Fiji",
          "Kyrgyzstan",
          "Democratic People's Republic of Korea",
          "Niue",
          "Monaco",
          "Marshall Islands",
          "Nauru",
          "Saint Kitts and Nevis",
          "Cook Islands",
          "San Marino",
          "Tuvalu",
          "Dominica",
          "Palau",
          "Belize",
          "Bangladesh",
          "Belarus",
          "Ukraine",
          "Republic of Moldova",
          "Suriname",
          "Iraq",
          "Azerbaijan",
          "Syrian Arab Republic",
          "Trinidad and Tobago",
          "Vanuatu",
          "Egypt",
          "Guatemala",
          "El Salvador",
          "Morocco",
          "Dominican Republic",
          "Seychelles",
          "Libya",
          "Cabo Verde",
          "Tonga",
          "Mauritius",
          "Lithuania",
          "Bulgaria",
          "Jordan",
          "Honduras",
          "Thailand",
          "Paraguay",
          "Colombia",
          "Grenada",
          "Brazil",
          "Venezuela (Bolivarian Republic of)",
          "Armenia",
          "Sri Lanka",
          "Nicaragua",
          "Saudi Arabia",
          "Saint Vincent and the Grenadines",
          "Georgia",
          "Saint Lucia",
          "Samoa",
          "Algeria",
          "Peru",
          "Latvia",
          "Malaysia",
          "Hungary",
          "Kuwait",
          "Iran (Islamic Republic of)",
          "Turkey",
          "Serbia",
          "Romania",
          "The former Yugoslav republic of Macedonia",
          "Lebanon",
          "China",
          "Bahamas",
          "Jamaica",
          "Tunisia",
          "Barbados",
          "Montenegro",
          "Ecuador",
          "Slovakia",
          "Viet Nam",
          "Oman",
          "Estonia",
          "Antigua and Barbuda",
          "Argentina",
          "Albania",
          "Maldives",
          "Poland",
          "United Arab Emirates",
          "Mexico",
          "Bahrain",
          "Bosnia and Herzegovina",
          "Uruguay",
          "Croatia",
          "Panama",
          "Brunei Darussalam",
          "Czechia",
          "Qatar",
          "Cuba",
          "United States of America",
          "Costa Rica",
          "Denmark",
          "Chile",
          "Cyprus",
          "Slovenia",
          "Portugal",
          "Ireland",
          "Malta",
          "Republic of Korea",
          "Belgium",
          "Finland",
          "Luxembourg",
          "United Kingdom of Great Britain and Northern Ireland",
          "Netherlands",
          "Germany",
          "Greece",
          "Israel",
          "New Zealand",
          "Singapore",
          "Austria",
          "Canada",
          "Norway",
          "Australia",
          "Spain",
          "Italy",
          "France",
          "Switzerland",
          "Iceland",
          "Sweden",
          "Japan"
         ],
         "yaxis": "y"
        }
       ],
       "layout": {
        "barmode": "relative",
        "coloraxis": {
         "colorbar": {
          "title": {
           "text": "LifeExpec"
          }
         },
         "colorscale": [
          [
           0,
           "#0d0887"
          ],
          [
           0.1111111111111111,
           "#46039f"
          ],
          [
           0.2222222222222222,
           "#7201a8"
          ],
          [
           0.3333333333333333,
           "#9c179e"
          ],
          [
           0.4444444444444444,
           "#bd3786"
          ],
          [
           0.5555555555555556,
           "#d8576b"
          ],
          [
           0.6666666666666666,
           "#ed7953"
          ],
          [
           0.7777777777777778,
           "#fb9f3a"
          ],
          [
           0.8888888888888888,
           "#fdca26"
          ],
          [
           1,
           "#f0f921"
          ]
         ]
        },
        "height": 1000,
        "legend": {
         "tracegroupgap": 0
        },
        "template": {
         "data": {
          "bar": [
           {
            "error_x": {
             "color": "#2a3f5f"
            },
            "error_y": {
             "color": "#2a3f5f"
            },
            "marker": {
             "line": {
              "color": "#E5ECF6",
              "width": 0.5
             },
             "pattern": {
              "fillmode": "overlay",
              "size": 10,
              "solidity": 0.2
             }
            },
            "type": "bar"
           }
          ],
          "barpolar": [
           {
            "marker": {
             "line": {
              "color": "#E5ECF6",
              "width": 0.5
             },
             "pattern": {
              "fillmode": "overlay",
              "size": 10,
              "solidity": 0.2
             }
            },
            "type": "barpolar"
           }
          ],
          "carpet": [
           {
            "aaxis": {
             "endlinecolor": "#2a3f5f",
             "gridcolor": "white",
             "linecolor": "white",
             "minorgridcolor": "white",
             "startlinecolor": "#2a3f5f"
            },
            "baxis": {
             "endlinecolor": "#2a3f5f",
             "gridcolor": "white",
             "linecolor": "white",
             "minorgridcolor": "white",
             "startlinecolor": "#2a3f5f"
            },
            "type": "carpet"
           }
          ],
          "choropleth": [
           {
            "colorbar": {
             "outlinewidth": 0,
             "ticks": ""
            },
            "type": "choropleth"
           }
          ],
          "contour": [
           {
            "colorbar": {
             "outlinewidth": 0,
             "ticks": ""
            },
            "colorscale": [
             [
              0,
              "#0d0887"
             ],
             [
              0.1111111111111111,
              "#46039f"
             ],
             [
              0.2222222222222222,
              "#7201a8"
             ],
             [
              0.3333333333333333,
              "#9c179e"
             ],
             [
              0.4444444444444444,
              "#bd3786"
             ],
             [
              0.5555555555555556,
              "#d8576b"
             ],
             [
              0.6666666666666666,
              "#ed7953"
             ],
             [
              0.7777777777777778,
              "#fb9f3a"
             ],
             [
              0.8888888888888888,
              "#fdca26"
             ],
             [
              1,
              "#f0f921"
             ]
            ],
            "type": "contour"
           }
          ],
          "contourcarpet": [
           {
            "colorbar": {
             "outlinewidth": 0,
             "ticks": ""
            },
            "type": "contourcarpet"
           }
          ],
          "heatmap": [
           {
            "colorbar": {
             "outlinewidth": 0,
             "ticks": ""
            },
            "colorscale": [
             [
              0,
              "#0d0887"
             ],
             [
              0.1111111111111111,
              "#46039f"
             ],
             [
              0.2222222222222222,
              "#7201a8"
             ],
             [
              0.3333333333333333,
              "#9c179e"
             ],
             [
              0.4444444444444444,
              "#bd3786"
             ],
             [
              0.5555555555555556,
              "#d8576b"
             ],
             [
              0.6666666666666666,
              "#ed7953"
             ],
             [
              0.7777777777777778,
              "#fb9f3a"
             ],
             [
              0.8888888888888888,
              "#fdca26"
             ],
             [
              1,
              "#f0f921"
             ]
            ],
            "type": "heatmap"
           }
          ],
          "heatmapgl": [
           {
            "colorbar": {
             "outlinewidth": 0,
             "ticks": ""
            },
            "colorscale": [
             [
              0,
              "#0d0887"
             ],
             [
              0.1111111111111111,
              "#46039f"
             ],
             [
              0.2222222222222222,
              "#7201a8"
             ],
             [
              0.3333333333333333,
              "#9c179e"
             ],
             [
              0.4444444444444444,
              "#bd3786"
             ],
             [
              0.5555555555555556,
              "#d8576b"
             ],
             [
              0.6666666666666666,
              "#ed7953"
             ],
             [
              0.7777777777777778,
              "#fb9f3a"
             ],
             [
              0.8888888888888888,
              "#fdca26"
             ],
             [
              1,
              "#f0f921"
             ]
            ],
            "type": "heatmapgl"
           }
          ],
          "histogram": [
           {
            "marker": {
             "pattern": {
              "fillmode": "overlay",
              "size": 10,
              "solidity": 0.2
             }
            },
            "type": "histogram"
           }
          ],
          "histogram2d": [
           {
            "colorbar": {
             "outlinewidth": 0,
             "ticks": ""
            },
            "colorscale": [
             [
              0,
              "#0d0887"
             ],
             [
              0.1111111111111111,
              "#46039f"
             ],
             [
              0.2222222222222222,
              "#7201a8"
             ],
             [
              0.3333333333333333,
              "#9c179e"
             ],
             [
              0.4444444444444444,
              "#bd3786"
             ],
             [
              0.5555555555555556,
              "#d8576b"
             ],
             [
              0.6666666666666666,
              "#ed7953"
             ],
             [
              0.7777777777777778,
              "#fb9f3a"
             ],
             [
              0.8888888888888888,
              "#fdca26"
             ],
             [
              1,
              "#f0f921"
             ]
            ],
            "type": "histogram2d"
           }
          ],
          "histogram2dcontour": [
           {
            "colorbar": {
             "outlinewidth": 0,
             "ticks": ""
            },
            "colorscale": [
             [
              0,
              "#0d0887"
             ],
             [
              0.1111111111111111,
              "#46039f"
             ],
             [
              0.2222222222222222,
              "#7201a8"
             ],
             [
              0.3333333333333333,
              "#9c179e"
             ],
             [
              0.4444444444444444,
              "#bd3786"
             ],
             [
              0.5555555555555556,
              "#d8576b"
             ],
             [
              0.6666666666666666,
              "#ed7953"
             ],
             [
              0.7777777777777778,
              "#fb9f3a"
             ],
             [
              0.8888888888888888,
              "#fdca26"
             ],
             [
              1,
              "#f0f921"
             ]
            ],
            "type": "histogram2dcontour"
           }
          ],
          "mesh3d": [
           {
            "colorbar": {
             "outlinewidth": 0,
             "ticks": ""
            },
            "type": "mesh3d"
           }
          ],
          "parcoords": [
           {
            "line": {
             "colorbar": {
              "outlinewidth": 0,
              "ticks": ""
             }
            },
            "type": "parcoords"
           }
          ],
          "pie": [
           {
            "automargin": true,
            "type": "pie"
           }
          ],
          "scatter": [
           {
            "fillpattern": {
             "fillmode": "overlay",
             "size": 10,
             "solidity": 0.2
            },
            "type": "scatter"
           }
          ],
          "scatter3d": [
           {
            "line": {
             "colorbar": {
              "outlinewidth": 0,
              "ticks": ""
             }
            },
            "marker": {
             "colorbar": {
              "outlinewidth": 0,
              "ticks": ""
             }
            },
            "type": "scatter3d"
           }
          ],
          "scattercarpet": [
           {
            "marker": {
             "colorbar": {
              "outlinewidth": 0,
              "ticks": ""
             }
            },
            "type": "scattercarpet"
           }
          ],
          "scattergeo": [
           {
            "marker": {
             "colorbar": {
              "outlinewidth": 0,
              "ticks": ""
             }
            },
            "type": "scattergeo"
           }
          ],
          "scattergl": [
           {
            "marker": {
             "colorbar": {
              "outlinewidth": 0,
              "ticks": ""
             }
            },
            "type": "scattergl"
           }
          ],
          "scattermapbox": [
           {
            "marker": {
             "colorbar": {
              "outlinewidth": 0,
              "ticks": ""
             }
            },
            "type": "scattermapbox"
           }
          ],
          "scatterpolar": [
           {
            "marker": {
             "colorbar": {
              "outlinewidth": 0,
              "ticks": ""
             }
            },
            "type": "scatterpolar"
           }
          ],
          "scatterpolargl": [
           {
            "marker": {
             "colorbar": {
              "outlinewidth": 0,
              "ticks": ""
             }
            },
            "type": "scatterpolargl"
           }
          ],
          "scatterternary": [
           {
            "marker": {
             "colorbar": {
              "outlinewidth": 0,
              "ticks": ""
             }
            },
            "type": "scatterternary"
           }
          ],
          "surface": [
           {
            "colorbar": {
             "outlinewidth": 0,
             "ticks": ""
            },
            "colorscale": [
             [
              0,
              "#0d0887"
             ],
             [
              0.1111111111111111,
              "#46039f"
             ],
             [
              0.2222222222222222,
              "#7201a8"
             ],
             [
              0.3333333333333333,
              "#9c179e"
             ],
             [
              0.4444444444444444,
              "#bd3786"
             ],
             [
              0.5555555555555556,
              "#d8576b"
             ],
             [
              0.6666666666666666,
              "#ed7953"
             ],
             [
              0.7777777777777778,
              "#fb9f3a"
             ],
             [
              0.8888888888888888,
              "#fdca26"
             ],
             [
              1,
              "#f0f921"
             ]
            ],
            "type": "surface"
           }
          ],
          "table": [
           {
            "cells": {
             "fill": {
              "color": "#EBF0F8"
             },
             "line": {
              "color": "white"
             }
            },
            "header": {
             "fill": {
              "color": "#C8D4E3"
             },
             "line": {
              "color": "white"
             }
            },
            "type": "table"
           }
          ]
         },
         "layout": {
          "annotationdefaults": {
           "arrowcolor": "#2a3f5f",
           "arrowhead": 0,
           "arrowwidth": 1
          },
          "autotypenumbers": "strict",
          "coloraxis": {
           "colorbar": {
            "outlinewidth": 0,
            "ticks": ""
           }
          },
          "colorscale": {
           "diverging": [
            [
             0,
             "#8e0152"
            ],
            [
             0.1,
             "#c51b7d"
            ],
            [
             0.2,
             "#de77ae"
            ],
            [
             0.3,
             "#f1b6da"
            ],
            [
             0.4,
             "#fde0ef"
            ],
            [
             0.5,
             "#f7f7f7"
            ],
            [
             0.6,
             "#e6f5d0"
            ],
            [
             0.7,
             "#b8e186"
            ],
            [
             0.8,
             "#7fbc41"
            ],
            [
             0.9,
             "#4d9221"
            ],
            [
             1,
             "#276419"
            ]
           ],
           "sequential": [
            [
             0,
             "#0d0887"
            ],
            [
             0.1111111111111111,
             "#46039f"
            ],
            [
             0.2222222222222222,
             "#7201a8"
            ],
            [
             0.3333333333333333,
             "#9c179e"
            ],
            [
             0.4444444444444444,
             "#bd3786"
            ],
            [
             0.5555555555555556,
             "#d8576b"
            ],
            [
             0.6666666666666666,
             "#ed7953"
            ],
            [
             0.7777777777777778,
             "#fb9f3a"
            ],
            [
             0.8888888888888888,
             "#fdca26"
            ],
            [
             1,
             "#f0f921"
            ]
           ],
           "sequentialminus": [
            [
             0,
             "#0d0887"
            ],
            [
             0.1111111111111111,
             "#46039f"
            ],
            [
             0.2222222222222222,
             "#7201a8"
            ],
            [
             0.3333333333333333,
             "#9c179e"
            ],
            [
             0.4444444444444444,
             "#bd3786"
            ],
            [
             0.5555555555555556,
             "#d8576b"
            ],
            [
             0.6666666666666666,
             "#ed7953"
            ],
            [
             0.7777777777777778,
             "#fb9f3a"
            ],
            [
             0.8888888888888888,
             "#fdca26"
            ],
            [
             1,
             "#f0f921"
            ]
           ]
          },
          "colorway": [
           "#636efa",
           "#EF553B",
           "#00cc96",
           "#ab63fa",
           "#FFA15A",
           "#19d3f3",
           "#FF6692",
           "#B6E880",
           "#FF97FF",
           "#FECB52"
          ],
          "font": {
           "color": "#2a3f5f"
          },
          "geo": {
           "bgcolor": "white",
           "lakecolor": "white",
           "landcolor": "#E5ECF6",
           "showlakes": true,
           "showland": true,
           "subunitcolor": "white"
          },
          "hoverlabel": {
           "align": "left"
          },
          "hovermode": "closest",
          "mapbox": {
           "style": "light"
          },
          "paper_bgcolor": "white",
          "plot_bgcolor": "#E5ECF6",
          "polar": {
           "angularaxis": {
            "gridcolor": "white",
            "linecolor": "white",
            "ticks": ""
           },
           "bgcolor": "#E5ECF6",
           "radialaxis": {
            "gridcolor": "white",
            "linecolor": "white",
            "ticks": ""
           }
          },
          "scene": {
           "xaxis": {
            "backgroundcolor": "#E5ECF6",
            "gridcolor": "white",
            "gridwidth": 2,
            "linecolor": "white",
            "showbackground": true,
            "ticks": "",
            "zerolinecolor": "white"
           },
           "yaxis": {
            "backgroundcolor": "#E5ECF6",
            "gridcolor": "white",
            "gridwidth": 2,
            "linecolor": "white",
            "showbackground": true,
            "ticks": "",
            "zerolinecolor": "white"
           },
           "zaxis": {
            "backgroundcolor": "#E5ECF6",
            "gridcolor": "white",
            "gridwidth": 2,
            "linecolor": "white",
            "showbackground": true,
            "ticks": "",
            "zerolinecolor": "white"
           }
          },
          "shapedefaults": {
           "line": {
            "color": "#2a3f5f"
           }
          },
          "ternary": {
           "aaxis": {
            "gridcolor": "white",
            "linecolor": "white",
            "ticks": ""
           },
           "baxis": {
            "gridcolor": "white",
            "linecolor": "white",
            "ticks": ""
           },
           "bgcolor": "#E5ECF6",
           "caxis": {
            "gridcolor": "white",
            "linecolor": "white",
            "ticks": ""
           }
          },
          "title": {
           "x": 0.05
          },
          "xaxis": {
           "automargin": true,
           "gridcolor": "white",
           "linecolor": "white",
           "ticks": "",
           "title": {
            "standoff": 15
           },
           "zerolinecolor": "white",
           "zerolinewidth": 2
          },
          "yaxis": {
           "automargin": true,
           "gridcolor": "white",
           "linecolor": "white",
           "ticks": "",
           "title": {
            "standoff": 15
           },
           "zerolinecolor": "white",
           "zerolinewidth": 2
          }
         }
        },
        "title": {
         "text": "Living Well: Life Expectancy By Country"
        },
        "xaxis": {
         "anchor": "y",
         "domain": [
          0,
          1
         ],
         "title": {
          "text": "LifeExpec"
         }
        },
        "yaxis": {
         "anchor": "x",
         "domain": [
          0,
          1
         ],
         "title": {
          "text": "Country"
         }
        }
       }
      }
     },
     "metadata": {},
     "output_type": "display_data"
    }
   ],
   "source": [
    "path = '../assets/'\n",
    "\n",
    "fig = px.bar(df_country_sort, \n",
    "             x=\"LifeExpec\",  \n",
    "             color='LifeExpec',\n",
    "             height=1000,\n",
    "             title='Living Well: Life Expectancy By Country')\n",
    "fig.show()\n",
    "\n",
    "fig.write_html(path+'Life_Expectancy_By_Country.svg')\n"
   ]
  }
 ],
 "metadata": {
  "kernelspec": {
   "display_name": "base",
   "language": "python",
   "name": "python3"
  },
  "language_info": {
   "codemirror_mode": {
    "name": "ipython",
    "version": 3
   },
   "file_extension": ".py",
   "mimetype": "text/x-python",
   "name": "python",
   "nbconvert_exporter": "python",
   "pygments_lexer": "ipython3",
   "version": "3.9.16"
  },
  "toc": {
   "base_numbering": 1,
   "nav_menu": {},
   "number_sections": true,
   "sideBar": true,
   "skip_h1_title": true,
   "title_cell": "Table of Contents",
   "title_sidebar": "Contents",
   "toc_cell": true,
   "toc_position": {},
   "toc_section_display": true,
   "toc_window_display": false
  },
  "varInspector": {
   "cols": {
    "lenName": 16,
    "lenType": 16,
    "lenVar": 40
   },
   "kernels_config": {
    "python": {
     "delete_cmd_postfix": "",
     "delete_cmd_prefix": "del ",
     "library": "var_list.py",
     "varRefreshCmd": "print(var_dic_list())"
    },
    "r": {
     "delete_cmd_postfix": ") ",
     "delete_cmd_prefix": "rm(",
     "library": "var_list.r",
     "varRefreshCmd": "cat(var_dic_list()) "
    }
   },
   "types_to_exclude": [
    "module",
    "function",
    "builtin_function_or_method",
    "instance",
    "_Feature"
   ],
   "window_display": false
  },
  "vscode": {
   "interpreter": {
    "hash": "ee253db64471d3bc5400655757329a6a33de9a5ca06cae94740881a9d5095460"
   }
  }
 },
 "nbformat": 4,
 "nbformat_minor": 5
}
