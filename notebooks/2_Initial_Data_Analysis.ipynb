{
 "cells": [
  {
   "attachments": {},
   "cell_type": "markdown",
   "id": "3f5ac5ac",
   "metadata": {},
   "source": [
    "# Life Expectancy Analysis & Modeling Using WHO & UN Data\n",
    "\n",
    "## Initial Data Analysis\n",
    "\n",
    "To:&nbsp;&nbsp;&nbsp;&nbsp; [Magnimind](https://magnimindacademy.com/)\n",
    "\n",
    "From: Matt Curcio, matt.curcio.us@gmail.com\n",
    "\n",
    "Date: 2023-01-29\n",
    "\n",
    "Re:&nbsp;&nbsp;&nbsp; Initial Data Analysis\n",
    "\n",
    "---\n",
    "\n",
    "## Executive Summary\n",
    "\n",
    "# TO DO\n",
    "add where the data is from? \n",
    "What website?\n",
    "Any background\n",
    "\n",
    "\n",
    "Purpose: This notebook investigates *missing values, imputing any missing values by column mean*.\n",
    "\n",
    "Input: `Life_Expectancy_Data.csv`\n",
    "\n",
    "Output: `Clean_LE_Data_w_Means_1.csv`\n",
    "\n",
    "---"
   ]
  },
  {
   "cell_type": "code",
   "execution_count": 2,
   "id": "656d8c75",
   "metadata": {},
   "outputs": [],
   "source": [
    "# Common Python Libraries\n",
    "import numpy as np\n",
    "import pandas as pd\n",
    "import matplotlib.pyplot as plt\n",
    "%matplotlib inline\n",
    "import seaborn as sns"
   ]
  },
  {
   "attachments": {},
   "cell_type": "markdown",
   "id": "e99d56e5",
   "metadata": {},
   "source": [
    "## Load data\n",
    "\n",
    "- Rename columns for clarity"
   ]
  },
  {
   "cell_type": "code",
   "execution_count": 3,
   "id": "06115e7f",
   "metadata": {},
   "outputs": [
    {
     "data": {
      "text/plain": [
       "(2938, 22)"
      ]
     },
     "execution_count": 3,
     "metadata": {},
     "output_type": "execute_result"
    }
   ],
   "source": [
    "path = '../data/raw/'\n",
    "filename = 'Life_Expectancy_Data.csv'\n",
    "\n",
    "column_names = ['Country','Year','Status','LifeExpectancy','AdultMort',\n",
    "                'InfD','EtOH','PercExpen','HepB','Measles',\n",
    "                'BMI','lt5yD','Polio','TotalExpen','DTP','HIV',\n",
    "                'GDP','Population','Thin1_19y','Thin5_9y','Income',\n",
    "                'Education']\n",
    "\n",
    "df = pd.read_csv(path+filename, names=column_names, header=0)\n",
    "df.shape"
   ]
  },
  {
   "attachments": {},
   "cell_type": "markdown",
   "id": "bc0d9af6",
   "metadata": {},
   "source": [
    "## Check for null values"
   ]
  },
  {
   "cell_type": "code",
   "execution_count": 5,
   "id": "4cab4dae",
   "metadata": {
    "scrolled": false
   },
   "outputs": [
    {
     "name": "stdout",
     "output_type": "stream",
     "text": [
      "======================================\n",
      "Shape: (2938, 22)\n",
      "======================================\n",
      "Column              No. missing values\n",
      "======================================\n"
     ]
    },
    {
     "data": {
      "text/plain": [
       "Country             0\n",
       "Year                0\n",
       "Status              0\n",
       "LifeExpectancy     10\n",
       "AdultMort          10\n",
       "InfD                0\n",
       "EtOH              194\n",
       "PercExpen           0\n",
       "HepB              553\n",
       "Measles             0\n",
       "BMI                34\n",
       "lt5yD               0\n",
       "Polio              19\n",
       "TotalExpen        226\n",
       "DTP                19\n",
       "HIV                 0\n",
       "GDP               448\n",
       "Population        652\n",
       "Thin1_19y          34\n",
       "Thin5_9y           34\n",
       "Income            167\n",
       "Education         163\n",
       "dtype: int64"
      ]
     },
     "execution_count": 5,
     "metadata": {},
     "output_type": "execute_result"
    }
   ],
   "source": [
    "print('='*38)\n",
    "print('Shape:',df.shape)\n",
    "print('='*38)\n",
    "print('Column              No. missing values')\n",
    "print('='*38)\n",
    "\n",
    "df.isnull().sum()"
   ]
  },
  {
   "cell_type": "markdown",
   "id": "4e26f58c",
   "metadata": {},
   "source": [
    "### NOTE 1: \n",
    "- The feature 'LifeExpectancy' has 10 missing values. \n",
    " \n",
    "- Therefore the 10 rows that have NAN values will be deleted. Because 'LifeExpectancy' is a Dependent variable, I will delete those 10 observations with NO labels rather than impute them.\n",
    "\n",
    "- Drop 10 rows containing null in `LifeExpectancy` column\n",
    " \n",
    "- The 'LifeExpectancy' feature appear to be **Missing Completely at Random(MCAR)**. The main advantage of **MCAR** is that the analysis is unbiased. Data lost with design fault do not impact other parameters in the model. "
   ]
  },
  {
   "cell_type": "code",
   "execution_count": 7,
   "id": "bf72eff3",
   "metadata": {},
   "outputs": [],
   "source": [
    "df.dropna(subset=['LifeExpectancy'], inplace=True) # 10 rows deleted"
   ]
  },
  {
   "cell_type": "code",
   "execution_count": 14,
   "id": "d0e4a1bd",
   "metadata": {},
   "outputs": [
    {
     "name": "stdout",
     "output_type": "stream",
     "text": [
      "======================================\n",
      "Shape: (2928, 22)\n",
      "======================================\n"
     ]
    }
   ],
   "source": [
    "print('='*38)\n",
    "print('Shape:',df.shape)\n",
    "print('='*38)"
   ]
  },
  {
   "cell_type": "markdown",
   "id": "facc5c8b",
   "metadata": {},
   "source": [
    "### NOTE 2: \n",
    "- The three features with the highest percent of mising vlaues are:\n",
    "\n",
    "|  | Feature | Number Missing | % Missing |\n",
    "|--|:--------|---------------:|----------:|\n",
    "|1 | Population | 644/2928 | 22.0% |\n",
    "|2 | HepB | 553/2928 |  18.9% |\n",
    "|3 | GDP | 448/2928 | 15.3% |"
   ]
  },
  {
   "cell_type": "markdown",
   "id": "3a701fe0",
   "metadata": {},
   "source": [
    "### NOTE 3: \n",
    "- Drop feature columns ['Population', 'HepB', 'GDP'] where % Missing is greater than 15%.\n",
    "\n",
    "\n",
    "- More data scraping or gathering needs to be done in at least 5 areas.\n",
    "   - 1 \tCountry Population\n",
    "   - 2 \tHepititus B Vaccination rates\n",
    "   - 3 \tGross Domestic Product\n",
    "   - 4 \tTotal Expenditure of Country Funds: Health Related\n",
    "   - 5 \tEthanol Comsumption per capita"
   ]
  },
  {
   "cell_type": "code",
   "execution_count": 6,
   "id": "4710c8ef",
   "metadata": {},
   "outputs": [],
   "source": [
    "df.drop(['Population', 'HepB', 'GDP'], axis=1, inplace=True)"
   ]
  },
  {
   "cell_type": "markdown",
   "id": "bff3fbd3",
   "metadata": {},
   "source": [
    "## Imputation using column means"
   ]
  },
  {
   "cell_type": "code",
   "execution_count": 7,
   "id": "cbd80604",
   "metadata": {},
   "outputs": [],
   "source": [
    "df['InfD'].fillna(np.mean(df.InfD), inplace=True)\n",
    "df['EtOH'].fillna(np.mean(df.EtOH), inplace=True)\n",
    "df['PercExpen'].fillna(np.mean(df.PercExpen), inplace=True)\n",
    "df['Measles'].fillna(np.mean(df.Measles), inplace=True)\n",
    "df['BMI'].fillna(np.mean(df.BMI), inplace=True)\n",
    "df['Polio'].fillna(np.mean(df.Polio), inplace=True)\n",
    "df['TotalExpen'].fillna(np.mean(df.TotalExpen), inplace=True)\n",
    "df['DTP'].fillna(np.mean(df.DTP), inplace=True)\n",
    "df['Thin1_19y'].fillna(np.mean(df.Thin1_19y), inplace=True)\n",
    "df['Thin5_9y'].fillna(np.mean(df.Thin5_9y), inplace=True)\n",
    "df['Income'].fillna(np.mean(df.Income), inplace=True)\n",
    "df['Education'].fillna(np.mean(df.Education), inplace=True)"
   ]
  },
  {
   "cell_type": "markdown",
   "id": "7999c53b",
   "metadata": {},
   "source": [
    "## Re-Check null data points"
   ]
  },
  {
   "cell_type": "code",
   "execution_count": 8,
   "id": "0190a1e6",
   "metadata": {},
   "outputs": [
    {
     "name": "stdout",
     "output_type": "stream",
     "text": [
      "\n",
      "Shape of Cleaned and Imputed dataframe: (2928, 19)\n"
     ]
    },
    {
     "data": {
      "text/plain": [
       "Country           0\n",
       "Year              0\n",
       "Status            0\n",
       "LifeExpectancy    0\n",
       "AdultMort         0\n",
       "InfD              0\n",
       "EtOH              0\n",
       "PercExpen         0\n",
       "Measles           0\n",
       "BMI               0\n",
       "lt5yD             0\n",
       "Polio             0\n",
       "TotalExpen        0\n",
       "DTP               0\n",
       "HIV               0\n",
       "Thin1_19y         0\n",
       "Thin5_9y          0\n",
       "Income            0\n",
       "Education         0\n",
       "dtype: int64"
      ]
     },
     "execution_count": 8,
     "metadata": {},
     "output_type": "execute_result"
    }
   ],
   "source": [
    "print('\\nShape of Cleaned and Imputed dataframe:', df.shape)\n",
    "      \n",
    "df.isnull().sum()"
   ]
  },
  {
   "cell_type": "markdown",
   "id": "2804ee73",
   "metadata": {},
   "source": [
    "## Save intermediate dataframe"
   ]
  },
  {
   "cell_type": "code",
   "execution_count": 9,
   "id": "c0f4a104",
   "metadata": {},
   "outputs": [],
   "source": [
    "path = '../data/processed/'\n",
    "fileName = 'Clean_LE_Data_w_Means_1.csv'\n",
    "\n",
    "df.to_csv(path+fileName, index=False)"
   ]
  }
 ],
 "metadata": {
  "kernelspec": {
   "display_name": "base",
   "language": "python",
   "name": "python3"
  },
  "language_info": {
   "codemirror_mode": {
    "name": "ipython",
    "version": 3
   },
   "file_extension": ".py",
   "mimetype": "text/x-python",
   "name": "python",
   "nbconvert_exporter": "python",
   "pygments_lexer": "ipython3",
   "version": "3.9.16"
  },
  "toc": {
   "base_numbering": 1,
   "nav_menu": {},
   "number_sections": true,
   "sideBar": true,
   "skip_h1_title": true,
   "title_cell": "Table of Contents",
   "title_sidebar": "Contents",
   "toc_cell": true,
   "toc_position": {},
   "toc_section_display": true,
   "toc_window_display": false
  },
  "varInspector": {
   "cols": {
    "lenName": 16,
    "lenType": 16,
    "lenVar": 40
   },
   "kernels_config": {
    "python": {
     "delete_cmd_postfix": "",
     "delete_cmd_prefix": "del ",
     "library": "var_list.py",
     "varRefreshCmd": "print(var_dic_list())"
    },
    "r": {
     "delete_cmd_postfix": ") ",
     "delete_cmd_prefix": "rm(",
     "library": "var_list.r",
     "varRefreshCmd": "cat(var_dic_list()) "
    }
   },
   "types_to_exclude": [
    "module",
    "function",
    "builtin_function_or_method",
    "instance",
    "_Feature"
   ],
   "window_display": false
  },
  "vscode": {
   "interpreter": {
    "hash": "ee253db64471d3bc5400655757329a6a33de9a5ca06cae94740881a9d5095460"
   }
  }
 },
 "nbformat": 4,
 "nbformat_minor": 5
}
