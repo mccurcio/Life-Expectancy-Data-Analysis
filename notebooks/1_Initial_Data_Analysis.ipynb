{
 "cells": [
  {
   "cell_type": "markdown",
   "id": "3f5ac5ac",
   "metadata": {},
   "source": [
    "# Life Expectancy Analysis & Modeling Using WHO & UN Data\n",
    "\n",
    "## Initial Data Analysis\n",
    "\n",
    "To:&nbsp;&nbsp;&nbsp;&nbsp; [Magnimind](https://magnimindacademy.com/)\n",
    "\n",
    "From: Matt Curcio, matt.curcio.us@gmail.com\n",
    "\n",
    "Date: 2023-01-29\n",
    "\n",
    "Re:&nbsp;&nbsp;&nbsp; Initial Data Analysis\n",
    "\n",
    "---\n",
    "\n",
    "## Summary\n",
    "\n",
    "## TO DO\n",
    "add where the data is from? \n",
    "What website?\n",
    "Any background\n",
    "\n",
    "---\n",
    "\n",
    "\n",
    "- The orginal dataset, `Life_Expectancy_Data.csv`, displayed **193 unique nations**.  \n",
    "\n",
    "- However, **10 countries had only one entry each**. \n",
    "  - Cook Islands, Dominica, Marshall Islands, Monaco, Nauru, Niue, Palau, Saint Kitts and Nevis, San Marino, Tuvalu\n",
    "  - These 10 countries had ONLY the year = 2013.  \n",
    "\n",
    "- Therefore the cleaned dataset and analysis has **183 usable countries**.\n",
    "\n",
    "\n",
    "---\n",
    "\n",
    "\n",
    "Purpose: This notebook investigates *missing values, imputing any missing values by column mean*.\n",
    "\n",
    "Input: `Life_Expectancy_Data.csv`\n",
    "\n",
    "Output: `Clean_LE_Data_w_Means_1.csv`"
   ]
  },
  {
   "cell_type": "code",
   "execution_count": 1,
   "id": "656d8c75",
   "metadata": {},
   "outputs": [],
   "source": [
    "# Common Python Libraries\n",
    "import numpy as np\n",
    "import pandas as pd\n",
    "import matplotlib.pyplot as plt\n",
    "%matplotlib inline\n",
    "import seaborn as sns"
   ]
  },
  {
   "cell_type": "markdown",
   "id": "e99d56e5",
   "metadata": {},
   "source": [
    "## Load data\n",
    "\n",
    "- Rename columns for clarity"
   ]
  },
  {
   "cell_type": "code",
   "execution_count": 2,
   "id": "06115e7f",
   "metadata": {},
   "outputs": [
    {
     "data": {
      "text/plain": [
       "(2938, 22)"
      ]
     },
     "execution_count": 2,
     "metadata": {},
     "output_type": "execute_result"
    }
   ],
   "source": [
    "path = '../data/raw/'\n",
    "filename = 'Life_Expectancy_Data.csv'\n",
    "\n",
    "column_names = ['Country','Year','Status','LifeExpectancy','AdultMort',\n",
    "                'InfD','EtOH','PercExpen','HepB','Measles',\n",
    "                'BMI','lt5yD','Polio','TotalExpen','DTP','HIV',\n",
    "                'GDP','Population','Thin1_19y','Thin5_9y','Income',\n",
    "                'Education']\n",
    "\n",
    "df = pd.read_csv(path+filename, names=column_names, header=0)\n",
    "df.shape"
   ]
  },
  {
   "cell_type": "markdown",
   "id": "bc0d9af6",
   "metadata": {},
   "source": [
    "## Check for null values"
   ]
  },
  {
   "cell_type": "code",
   "execution_count": 3,
   "id": "4cab4dae",
   "metadata": {
    "scrolled": false
   },
   "outputs": [
    {
     "name": "stdout",
     "output_type": "stream",
     "text": [
      "======================================\n",
      "Shape: (2938, 22)\n",
      "======================================\n",
      "Column              No. missing values\n",
      "======================================\n"
     ]
    },
    {
     "data": {
      "text/plain": [
       "Country             0\n",
       "Year                0\n",
       "Status              0\n",
       "LifeExpectancy     10\n",
       "AdultMort          10\n",
       "InfD                0\n",
       "EtOH              194\n",
       "PercExpen           0\n",
       "HepB              553\n",
       "Measles             0\n",
       "BMI                34\n",
       "lt5yD               0\n",
       "Polio              19\n",
       "TotalExpen        226\n",
       "DTP                19\n",
       "HIV                 0\n",
       "GDP               448\n",
       "Population        652\n",
       "Thin1_19y          34\n",
       "Thin5_9y           34\n",
       "Income            167\n",
       "Education         163\n",
       "dtype: int64"
      ]
     },
     "execution_count": 3,
     "metadata": {},
     "output_type": "execute_result"
    }
   ],
   "source": [
    "print('='*38)\n",
    "print('Shape:',df.shape)\n",
    "print('='*38)\n",
    "print('Column              No. missing values')\n",
    "print('='*38)\n",
    "\n",
    "df.isnull().sum()"
   ]
  },
  {
   "cell_type": "markdown",
   "id": "4e26f58c",
   "metadata": {},
   "source": [
    "### NOTE 1: \n",
    "- The feature 'LifeExpectancy' has 10 missing values. \n",
    " \n",
    "- Therefore the 10 rows that have NAN values will be deleted. Because 'LifeExpectancy' is a Dependent variable, I will delete those 10 observations with NO labels rather than impute them.\n",
    "\n",
    "- Drop 10 rows containing null in `LifeExpectancy` column\n",
    " \n",
    "- The 'LifeExpectancy' feature appear to be **Missing Completely at Random(MCAR)**. The main advantage of **MCAR** is that the analysis is unbiased. Data lost with design fault do not impact other parameters in the model. "
   ]
  },
  {
   "cell_type": "markdown",
   "id": "ffd981d0",
   "metadata": {},
   "source": [
    "## Exactly what countries have missing Life Expectancy data.column_names?"
   ]
  },
  {
   "cell_type": "code",
   "execution_count": 4,
   "id": "c027d2f9",
   "metadata": {},
   "outputs": [
    {
     "name": "stdout",
     "output_type": "stream",
     "text": [
      "624              Cook Islands\n",
      "769                  Dominica\n",
      "1650         Marshall Islands\n",
      "1715                   Monaco\n",
      "1812                    Nauru\n",
      "1909                     Niue\n",
      "1958                    Palau\n",
      "2167    Saint Kitts and Nevis\n",
      "2216               San Marino\n",
      "2713                   Tuvalu\n",
      "Name: Country, dtype: object\n"
     ]
    }
   ],
   "source": [
    "# Exactly what countries have missing Life Expectancy data.column_names?\n",
    "\n",
    "left_out = df.loc[df['LifeExpectancy'].isnull()]\n",
    "\n",
    "print(left_out['Country'])"
   ]
  },
  {
   "cell_type": "code",
   "execution_count": 5,
   "id": "12deacbd",
   "metadata": {},
   "outputs": [
    {
     "data": {
      "text/html": [
       "<div>\n",
       "<style scoped>\n",
       "    .dataframe tbody tr th:only-of-type {\n",
       "        vertical-align: middle;\n",
       "    }\n",
       "\n",
       "    .dataframe tbody tr th {\n",
       "        vertical-align: top;\n",
       "    }\n",
       "\n",
       "    .dataframe thead th {\n",
       "        text-align: right;\n",
       "    }\n",
       "</style>\n",
       "<table border=\"1\" class=\"dataframe\">\n",
       "  <thead>\n",
       "    <tr style=\"text-align: right;\">\n",
       "      <th></th>\n",
       "      <th>Country</th>\n",
       "      <th>Year</th>\n",
       "      <th>Status</th>\n",
       "      <th>LifeExpectancy</th>\n",
       "      <th>AdultMort</th>\n",
       "      <th>InfD</th>\n",
       "      <th>EtOH</th>\n",
       "      <th>PercExpen</th>\n",
       "      <th>HepB</th>\n",
       "      <th>Measles</th>\n",
       "      <th>...</th>\n",
       "      <th>Polio</th>\n",
       "      <th>TotalExpen</th>\n",
       "      <th>DTP</th>\n",
       "      <th>HIV</th>\n",
       "      <th>GDP</th>\n",
       "      <th>Population</th>\n",
       "      <th>Thin1_19y</th>\n",
       "      <th>Thin5_9y</th>\n",
       "      <th>Income</th>\n",
       "      <th>Education</th>\n",
       "    </tr>\n",
       "  </thead>\n",
       "  <tbody>\n",
       "    <tr>\n",
       "      <th>624</th>\n",
       "      <td>Cook Islands</td>\n",
       "      <td>2013</td>\n",
       "      <td>Developing</td>\n",
       "      <td>NaN</td>\n",
       "      <td>NaN</td>\n",
       "      <td>0</td>\n",
       "      <td>0.01</td>\n",
       "      <td>0.000000</td>\n",
       "      <td>98.0</td>\n",
       "      <td>0</td>\n",
       "      <td>...</td>\n",
       "      <td>98.0</td>\n",
       "      <td>3.58</td>\n",
       "      <td>98.0</td>\n",
       "      <td>0.1</td>\n",
       "      <td>NaN</td>\n",
       "      <td>NaN</td>\n",
       "      <td>0.1</td>\n",
       "      <td>0.1</td>\n",
       "      <td>NaN</td>\n",
       "      <td>NaN</td>\n",
       "    </tr>\n",
       "    <tr>\n",
       "      <th>769</th>\n",
       "      <td>Dominica</td>\n",
       "      <td>2013</td>\n",
       "      <td>Developing</td>\n",
       "      <td>NaN</td>\n",
       "      <td>NaN</td>\n",
       "      <td>0</td>\n",
       "      <td>0.01</td>\n",
       "      <td>11.419555</td>\n",
       "      <td>96.0</td>\n",
       "      <td>0</td>\n",
       "      <td>...</td>\n",
       "      <td>96.0</td>\n",
       "      <td>5.58</td>\n",
       "      <td>96.0</td>\n",
       "      <td>0.1</td>\n",
       "      <td>722.756650</td>\n",
       "      <td>NaN</td>\n",
       "      <td>2.7</td>\n",
       "      <td>2.6</td>\n",
       "      <td>0.721</td>\n",
       "      <td>12.7</td>\n",
       "    </tr>\n",
       "    <tr>\n",
       "      <th>1650</th>\n",
       "      <td>Marshall Islands</td>\n",
       "      <td>2013</td>\n",
       "      <td>Developing</td>\n",
       "      <td>NaN</td>\n",
       "      <td>NaN</td>\n",
       "      <td>0</td>\n",
       "      <td>0.01</td>\n",
       "      <td>871.878317</td>\n",
       "      <td>8.0</td>\n",
       "      <td>0</td>\n",
       "      <td>...</td>\n",
       "      <td>79.0</td>\n",
       "      <td>17.24</td>\n",
       "      <td>79.0</td>\n",
       "      <td>0.1</td>\n",
       "      <td>3617.752354</td>\n",
       "      <td>NaN</td>\n",
       "      <td>0.1</td>\n",
       "      <td>0.1</td>\n",
       "      <td>NaN</td>\n",
       "      <td>0.0</td>\n",
       "    </tr>\n",
       "    <tr>\n",
       "      <th>1715</th>\n",
       "      <td>Monaco</td>\n",
       "      <td>2013</td>\n",
       "      <td>Developing</td>\n",
       "      <td>NaN</td>\n",
       "      <td>NaN</td>\n",
       "      <td>0</td>\n",
       "      <td>0.01</td>\n",
       "      <td>0.000000</td>\n",
       "      <td>99.0</td>\n",
       "      <td>0</td>\n",
       "      <td>...</td>\n",
       "      <td>99.0</td>\n",
       "      <td>4.30</td>\n",
       "      <td>99.0</td>\n",
       "      <td>0.1</td>\n",
       "      <td>NaN</td>\n",
       "      <td>NaN</td>\n",
       "      <td>NaN</td>\n",
       "      <td>NaN</td>\n",
       "      <td>NaN</td>\n",
       "      <td>NaN</td>\n",
       "    </tr>\n",
       "    <tr>\n",
       "      <th>1812</th>\n",
       "      <td>Nauru</td>\n",
       "      <td>2013</td>\n",
       "      <td>Developing</td>\n",
       "      <td>NaN</td>\n",
       "      <td>NaN</td>\n",
       "      <td>0</td>\n",
       "      <td>0.01</td>\n",
       "      <td>15.606596</td>\n",
       "      <td>87.0</td>\n",
       "      <td>0</td>\n",
       "      <td>...</td>\n",
       "      <td>87.0</td>\n",
       "      <td>4.65</td>\n",
       "      <td>87.0</td>\n",
       "      <td>0.1</td>\n",
       "      <td>136.183210</td>\n",
       "      <td>NaN</td>\n",
       "      <td>0.1</td>\n",
       "      <td>0.1</td>\n",
       "      <td>NaN</td>\n",
       "      <td>9.6</td>\n",
       "    </tr>\n",
       "    <tr>\n",
       "      <th>1909</th>\n",
       "      <td>Niue</td>\n",
       "      <td>2013</td>\n",
       "      <td>Developing</td>\n",
       "      <td>NaN</td>\n",
       "      <td>NaN</td>\n",
       "      <td>0</td>\n",
       "      <td>0.01</td>\n",
       "      <td>0.000000</td>\n",
       "      <td>99.0</td>\n",
       "      <td>0</td>\n",
       "      <td>...</td>\n",
       "      <td>99.0</td>\n",
       "      <td>7.20</td>\n",
       "      <td>99.0</td>\n",
       "      <td>0.1</td>\n",
       "      <td>NaN</td>\n",
       "      <td>NaN</td>\n",
       "      <td>0.1</td>\n",
       "      <td>0.1</td>\n",
       "      <td>NaN</td>\n",
       "      <td>NaN</td>\n",
       "    </tr>\n",
       "    <tr>\n",
       "      <th>1958</th>\n",
       "      <td>Palau</td>\n",
       "      <td>2013</td>\n",
       "      <td>Developing</td>\n",
       "      <td>NaN</td>\n",
       "      <td>NaN</td>\n",
       "      <td>0</td>\n",
       "      <td>NaN</td>\n",
       "      <td>344.690631</td>\n",
       "      <td>99.0</td>\n",
       "      <td>0</td>\n",
       "      <td>...</td>\n",
       "      <td>99.0</td>\n",
       "      <td>9.27</td>\n",
       "      <td>99.0</td>\n",
       "      <td>0.1</td>\n",
       "      <td>1932.122370</td>\n",
       "      <td>292.0</td>\n",
       "      <td>0.1</td>\n",
       "      <td>0.1</td>\n",
       "      <td>0.779</td>\n",
       "      <td>14.2</td>\n",
       "    </tr>\n",
       "    <tr>\n",
       "      <th>2167</th>\n",
       "      <td>Saint Kitts and Nevis</td>\n",
       "      <td>2013</td>\n",
       "      <td>Developing</td>\n",
       "      <td>NaN</td>\n",
       "      <td>NaN</td>\n",
       "      <td>0</td>\n",
       "      <td>8.54</td>\n",
       "      <td>0.000000</td>\n",
       "      <td>97.0</td>\n",
       "      <td>0</td>\n",
       "      <td>...</td>\n",
       "      <td>96.0</td>\n",
       "      <td>6.14</td>\n",
       "      <td>96.0</td>\n",
       "      <td>0.1</td>\n",
       "      <td>NaN</td>\n",
       "      <td>NaN</td>\n",
       "      <td>3.7</td>\n",
       "      <td>3.6</td>\n",
       "      <td>0.749</td>\n",
       "      <td>13.4</td>\n",
       "    </tr>\n",
       "    <tr>\n",
       "      <th>2216</th>\n",
       "      <td>San Marino</td>\n",
       "      <td>2013</td>\n",
       "      <td>Developing</td>\n",
       "      <td>NaN</td>\n",
       "      <td>NaN</td>\n",
       "      <td>0</td>\n",
       "      <td>0.01</td>\n",
       "      <td>0.000000</td>\n",
       "      <td>69.0</td>\n",
       "      <td>0</td>\n",
       "      <td>...</td>\n",
       "      <td>69.0</td>\n",
       "      <td>6.50</td>\n",
       "      <td>69.0</td>\n",
       "      <td>0.1</td>\n",
       "      <td>NaN</td>\n",
       "      <td>NaN</td>\n",
       "      <td>NaN</td>\n",
       "      <td>NaN</td>\n",
       "      <td>NaN</td>\n",
       "      <td>15.1</td>\n",
       "    </tr>\n",
       "    <tr>\n",
       "      <th>2713</th>\n",
       "      <td>Tuvalu</td>\n",
       "      <td>2013</td>\n",
       "      <td>Developing</td>\n",
       "      <td>NaN</td>\n",
       "      <td>NaN</td>\n",
       "      <td>0</td>\n",
       "      <td>0.01</td>\n",
       "      <td>78.281203</td>\n",
       "      <td>9.0</td>\n",
       "      <td>0</td>\n",
       "      <td>...</td>\n",
       "      <td>9.0</td>\n",
       "      <td>16.61</td>\n",
       "      <td>9.0</td>\n",
       "      <td>0.1</td>\n",
       "      <td>3542.135890</td>\n",
       "      <td>1819.0</td>\n",
       "      <td>0.2</td>\n",
       "      <td>0.1</td>\n",
       "      <td>NaN</td>\n",
       "      <td>0.0</td>\n",
       "    </tr>\n",
       "  </tbody>\n",
       "</table>\n",
       "<p>10 rows × 22 columns</p>\n",
       "</div>"
      ],
      "text/plain": [
       "                    Country  Year      Status  LifeExpectancy  AdultMort  \\\n",
       "624            Cook Islands  2013  Developing             NaN        NaN   \n",
       "769                Dominica  2013  Developing             NaN        NaN   \n",
       "1650       Marshall Islands  2013  Developing             NaN        NaN   \n",
       "1715                 Monaco  2013  Developing             NaN        NaN   \n",
       "1812                  Nauru  2013  Developing             NaN        NaN   \n",
       "1909                   Niue  2013  Developing             NaN        NaN   \n",
       "1958                  Palau  2013  Developing             NaN        NaN   \n",
       "2167  Saint Kitts and Nevis  2013  Developing             NaN        NaN   \n",
       "2216             San Marino  2013  Developing             NaN        NaN   \n",
       "2713                 Tuvalu  2013  Developing             NaN        NaN   \n",
       "\n",
       "      InfD  EtOH   PercExpen  HepB  Measles  ...  Polio  TotalExpen   DTP  \\\n",
       "624      0  0.01    0.000000  98.0        0  ...   98.0        3.58  98.0   \n",
       "769      0  0.01   11.419555  96.0        0  ...   96.0        5.58  96.0   \n",
       "1650     0  0.01  871.878317   8.0        0  ...   79.0       17.24  79.0   \n",
       "1715     0  0.01    0.000000  99.0        0  ...   99.0        4.30  99.0   \n",
       "1812     0  0.01   15.606596  87.0        0  ...   87.0        4.65  87.0   \n",
       "1909     0  0.01    0.000000  99.0        0  ...   99.0        7.20  99.0   \n",
       "1958     0   NaN  344.690631  99.0        0  ...   99.0        9.27  99.0   \n",
       "2167     0  8.54    0.000000  97.0        0  ...   96.0        6.14  96.0   \n",
       "2216     0  0.01    0.000000  69.0        0  ...   69.0        6.50  69.0   \n",
       "2713     0  0.01   78.281203   9.0        0  ...    9.0       16.61   9.0   \n",
       "\n",
       "      HIV          GDP  Population  Thin1_19y  Thin5_9y  Income  Education  \n",
       "624   0.1          NaN         NaN        0.1       0.1     NaN        NaN  \n",
       "769   0.1   722.756650         NaN        2.7       2.6   0.721       12.7  \n",
       "1650  0.1  3617.752354         NaN        0.1       0.1     NaN        0.0  \n",
       "1715  0.1          NaN         NaN        NaN       NaN     NaN        NaN  \n",
       "1812  0.1   136.183210         NaN        0.1       0.1     NaN        9.6  \n",
       "1909  0.1          NaN         NaN        0.1       0.1     NaN        NaN  \n",
       "1958  0.1  1932.122370       292.0        0.1       0.1   0.779       14.2  \n",
       "2167  0.1          NaN         NaN        3.7       3.6   0.749       13.4  \n",
       "2216  0.1          NaN         NaN        NaN       NaN     NaN       15.1  \n",
       "2713  0.1  3542.135890      1819.0        0.2       0.1     NaN        0.0  \n",
       "\n",
       "[10 rows x 22 columns]"
      ]
     },
     "execution_count": 5,
     "metadata": {},
     "output_type": "execute_result"
    }
   ],
   "source": [
    "left_out"
   ]
  },
  {
   "cell_type": "markdown",
   "id": "05fe4b36",
   "metadata": {},
   "source": [
    "## 10 countries have only one entry each, for example, 'Cook Island'"
   ]
  },
  {
   "cell_type": "code",
   "execution_count": 6,
   "id": "b1fe7fc8",
   "metadata": {},
   "outputs": [
    {
     "data": {
      "text/html": [
       "<div>\n",
       "<style scoped>\n",
       "    .dataframe tbody tr th:only-of-type {\n",
       "        vertical-align: middle;\n",
       "    }\n",
       "\n",
       "    .dataframe tbody tr th {\n",
       "        vertical-align: top;\n",
       "    }\n",
       "\n",
       "    .dataframe thead th {\n",
       "        text-align: right;\n",
       "    }\n",
       "</style>\n",
       "<table border=\"1\" class=\"dataframe\">\n",
       "  <thead>\n",
       "    <tr style=\"text-align: right;\">\n",
       "      <th></th>\n",
       "      <th>Country</th>\n",
       "      <th>Year</th>\n",
       "      <th>Status</th>\n",
       "      <th>LifeExpectancy</th>\n",
       "      <th>AdultMort</th>\n",
       "      <th>InfD</th>\n",
       "      <th>EtOH</th>\n",
       "      <th>PercExpen</th>\n",
       "      <th>HepB</th>\n",
       "      <th>Measles</th>\n",
       "      <th>...</th>\n",
       "      <th>Polio</th>\n",
       "      <th>TotalExpen</th>\n",
       "      <th>DTP</th>\n",
       "      <th>HIV</th>\n",
       "      <th>GDP</th>\n",
       "      <th>Population</th>\n",
       "      <th>Thin1_19y</th>\n",
       "      <th>Thin5_9y</th>\n",
       "      <th>Income</th>\n",
       "      <th>Education</th>\n",
       "    </tr>\n",
       "  </thead>\n",
       "  <tbody>\n",
       "    <tr>\n",
       "      <th>624</th>\n",
       "      <td>Cook Islands</td>\n",
       "      <td>2013</td>\n",
       "      <td>Developing</td>\n",
       "      <td>NaN</td>\n",
       "      <td>NaN</td>\n",
       "      <td>0</td>\n",
       "      <td>0.01</td>\n",
       "      <td>0.0</td>\n",
       "      <td>98.0</td>\n",
       "      <td>0</td>\n",
       "      <td>...</td>\n",
       "      <td>98.0</td>\n",
       "      <td>3.58</td>\n",
       "      <td>98.0</td>\n",
       "      <td>0.1</td>\n",
       "      <td>NaN</td>\n",
       "      <td>NaN</td>\n",
       "      <td>0.1</td>\n",
       "      <td>0.1</td>\n",
       "      <td>NaN</td>\n",
       "      <td>NaN</td>\n",
       "    </tr>\n",
       "  </tbody>\n",
       "</table>\n",
       "<p>1 rows × 22 columns</p>\n",
       "</div>"
      ],
      "text/plain": [
       "          Country  Year      Status  LifeExpectancy  AdultMort  InfD  EtOH  \\\n",
       "624  Cook Islands  2013  Developing             NaN        NaN     0  0.01   \n",
       "\n",
       "     PercExpen  HepB  Measles  ...  Polio  TotalExpen   DTP  HIV  GDP  \\\n",
       "624        0.0  98.0        0  ...   98.0        3.58  98.0  0.1  NaN   \n",
       "\n",
       "     Population  Thin1_19y  Thin5_9y  Income  Education  \n",
       "624         NaN        0.1       0.1     NaN        NaN  \n",
       "\n",
       "[1 rows x 22 columns]"
      ]
     },
     "execution_count": 6,
     "metadata": {},
     "output_type": "execute_result"
    }
   ],
   "source": [
    "df.loc[df['Country'] == 'Cook Islands']"
   ]
  },
  {
   "cell_type": "markdown",
   "id": "3712dce4",
   "metadata": {},
   "source": [
    "### NOTE 2:\n",
    " \n",
    "- I will not impute data for the missing 10 nations. \n",
    "- Therefore it is reasonable to delete the ten countries which make up ten rows.  "
   ]
  },
  {
   "cell_type": "code",
   "execution_count": 7,
   "id": "bf72eff3",
   "metadata": {},
   "outputs": [],
   "source": [
    "df.dropna(subset=['LifeExpectancy'], inplace=True) # 10 rows deleted"
   ]
  },
  {
   "cell_type": "code",
   "execution_count": 8,
   "id": "d0e4a1bd",
   "metadata": {},
   "outputs": [
    {
     "name": "stdout",
     "output_type": "stream",
     "text": [
      "======================================\n",
      "Shape: (2928, 22)\n",
      "======================================\n"
     ]
    }
   ],
   "source": [
    "print('='*38)\n",
    "print('Shape:',df.shape)\n",
    "print('='*38)"
   ]
  },
  {
   "cell_type": "markdown",
   "id": "facc5c8b",
   "metadata": {},
   "source": [
    "### NOTE 3: \n",
    "- The three features with the highest percent of mising vlaues are:\n",
    "\n",
    "|  | Feature | Number Missing | % Missing |\n",
    "|--|:--------|---------------:|----------:|\n",
    "|1 | Population | 644/2928 | 22.0% |\n",
    "|2 | HepB | 553/2928 |  18.9% |\n",
    "|3 | GDP | 448/2928 | 15.3% |"
   ]
  },
  {
   "cell_type": "markdown",
   "id": "3a701fe0",
   "metadata": {},
   "source": [
    "### NOTE 4: \n",
    "- Drop feature columns ['Population', 'HepB', 'GDP'] where % Missing is greater than 15%.\n",
    "\n",
    "\n",
    "- More data scraping or gathering needs to be done in at least 5 areas.\n",
    "   - 1 \tCountry Population\n",
    "   - 2 \tHepititus B Vaccination rates\n",
    "   - 3 \tGross Domestic Product\n",
    "   - 4 \tTotal Expenditure of Country Funds: Health Related\n",
    "   - 5 \tEthanol Comsumption per capita"
   ]
  },
  {
   "cell_type": "code",
   "execution_count": 9,
   "id": "4710c8ef",
   "metadata": {},
   "outputs": [],
   "source": [
    "df.drop(['Population', 'HepB', 'GDP'], axis=1, inplace=True)"
   ]
  },
  {
   "cell_type": "markdown",
   "id": "bff3fbd3",
   "metadata": {},
   "source": [
    "## Imputation using column means"
   ]
  },
  {
   "cell_type": "code",
   "execution_count": 10,
   "id": "cbd80604",
   "metadata": {},
   "outputs": [],
   "source": [
    "df['InfD'].fillna(np.mean(df.InfD), inplace=True)\n",
    "df['EtOH'].fillna(np.mean(df.EtOH), inplace=True)\n",
    "df['PercExpen'].fillna(np.mean(df.PercExpen), inplace=True)\n",
    "df['Measles'].fillna(np.mean(df.Measles), inplace=True)\n",
    "df['BMI'].fillna(np.mean(df.BMI), inplace=True)\n",
    "df['Polio'].fillna(np.mean(df.Polio), inplace=True)\n",
    "df['TotalExpen'].fillna(np.mean(df.TotalExpen), inplace=True)\n",
    "df['DTP'].fillna(np.mean(df.DTP), inplace=True)\n",
    "df['Thin1_19y'].fillna(np.mean(df.Thin1_19y), inplace=True)\n",
    "df['Thin5_9y'].fillna(np.mean(df.Thin5_9y), inplace=True)\n",
    "df['Income'].fillna(np.mean(df.Income), inplace=True)\n",
    "df['Education'].fillna(np.mean(df.Education), inplace=True)"
   ]
  },
  {
   "cell_type": "markdown",
   "id": "7999c53b",
   "metadata": {},
   "source": [
    "## Re-Check null data points"
   ]
  },
  {
   "cell_type": "code",
   "execution_count": 11,
   "id": "0190a1e6",
   "metadata": {},
   "outputs": [
    {
     "name": "stdout",
     "output_type": "stream",
     "text": [
      "\n",
      "Shape of Cleaned and Imputed dataframe: (2928, 19)\n"
     ]
    },
    {
     "data": {
      "text/plain": [
       "Country           0\n",
       "Year              0\n",
       "Status            0\n",
       "LifeExpectancy    0\n",
       "AdultMort         0\n",
       "InfD              0\n",
       "EtOH              0\n",
       "PercExpen         0\n",
       "Measles           0\n",
       "BMI               0\n",
       "lt5yD             0\n",
       "Polio             0\n",
       "TotalExpen        0\n",
       "DTP               0\n",
       "HIV               0\n",
       "Thin1_19y         0\n",
       "Thin5_9y          0\n",
       "Income            0\n",
       "Education         0\n",
       "dtype: int64"
      ]
     },
     "execution_count": 11,
     "metadata": {},
     "output_type": "execute_result"
    }
   ],
   "source": [
    "print('\\nShape of Cleaned and Imputed dataframe:', df.shape)\n",
    "      \n",
    "df.isnull().sum()"
   ]
  },
  {
   "cell_type": "markdown",
   "id": "2804ee73",
   "metadata": {},
   "source": [
    "## Save intermediate dataframe"
   ]
  },
  {
   "cell_type": "code",
   "execution_count": 12,
   "id": "c0f4a104",
   "metadata": {},
   "outputs": [],
   "source": [
    "path = '../data/processed/'\n",
    "fileName = 'Clean_LE_Data_w_Means_1.csv'\n",
    "\n",
    "df.to_csv(path+fileName, index=False)"
   ]
  },
  {
   "cell_type": "code",
   "execution_count": null,
   "id": "d4a04378",
   "metadata": {},
   "outputs": [],
   "source": []
  }
 ],
 "metadata": {
  "kernelspec": {
   "display_name": "Python 3 (ipykernel)",
   "language": "python",
   "name": "python3"
  },
  "language_info": {
   "codemirror_mode": {
    "name": "ipython",
    "version": 3
   },
   "file_extension": ".py",
   "mimetype": "text/x-python",
   "name": "python",
   "nbconvert_exporter": "python",
   "pygments_lexer": "ipython3",
   "version": "3.10.10"
  },
  "toc": {
   "base_numbering": 1,
   "nav_menu": {},
   "number_sections": true,
   "sideBar": true,
   "skip_h1_title": true,
   "title_cell": "Table of Contents",
   "title_sidebar": "Contents",
   "toc_cell": true,
   "toc_position": {},
   "toc_section_display": true,
   "toc_window_display": false
  },
  "varInspector": {
   "cols": {
    "lenName": 16,
    "lenType": 16,
    "lenVar": 40
   },
   "kernels_config": {
    "python": {
     "delete_cmd_postfix": "",
     "delete_cmd_prefix": "del ",
     "library": "var_list.py",
     "varRefreshCmd": "print(var_dic_list())"
    },
    "r": {
     "delete_cmd_postfix": ") ",
     "delete_cmd_prefix": "rm(",
     "library": "var_list.r",
     "varRefreshCmd": "cat(var_dic_list()) "
    }
   },
   "types_to_exclude": [
    "module",
    "function",
    "builtin_function_or_method",
    "instance",
    "_Feature"
   ],
   "window_display": false
  },
  "vscode": {
   "interpreter": {
    "hash": "ee253db64471d3bc5400655757329a6a33de9a5ca06cae94740881a9d5095460"
   }
  }
 },
 "nbformat": 4,
 "nbformat_minor": 5
}
