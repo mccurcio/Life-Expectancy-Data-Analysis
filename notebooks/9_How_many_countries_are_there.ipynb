{
 "cells": [
  {
   "cell_type": "markdown",
   "id": "e68fa394",
   "metadata": {},
   "source": [
    "# Life_Expectancy_WHO_UN_Analysis_Modeling\n",
    "\n",
    "## How many nations are there in the world?\n",
    "\n",
    "To:&nbsp;&nbsp;&nbsp;&nbsp; [Magnimind](https://magnimindacademy.com/)\n",
    "\n",
    "From: Matt Curcio, matt.curcio.ri@gmail.com\n",
    "\n",
    "Date: 2023-01-29\n",
    "\n",
    "Re:&nbsp;&nbsp;&nbsp; What Exactly Is Missing From Life Expectancy Dataset?\n",
    "\n",
    "---\n",
    "\n",
    "## Executive Summary\n",
    "\n",
    "**How many nations are there in the world?**\n",
    "\n",
    "- The orginal 'Life_Expectancy' dataset had 193 nations unique nations listed with 10 considered unusable, leaving 183 nations for analysis.\n",
    "\n",
    "- Result...\n",
    "  \n",
    "---\n",
    "\n",
    "\n",
    "## Introduction\n",
    "\n",
    "The Life Expectancy dataset contains 193 nations.   \n",
    "   - See: [Life_Expectancy_Profiling_Test.html](../assets/Pandas_Profiling_material/Life_Expectancy_Profiling_Test.html)\n",
    "\n",
    "Q. Is this list missing any countries? Is it even accurate? Let's find out?"
   ]
  },
  {
   "attachments": {},
   "cell_type": "markdown",
   "id": "aa5b3b4c",
   "metadata": {},
   "source": [
    "# What does chat GPT say?\n",
    "\n",
    "When asked: **what nations are members of the United nations?**\n",
    "\n",
    "The Chat-GPT bot claimed:\n",
    "\n",
    "```\n",
    "As of my knowledge cutoff in September 2021, there were 193 member states in the United Nations. Here is a list of those member states in alphabetical order:\n",
    "```\n",
    "\n",
    "However it's list claimed 147 members. *Mmmmm*\n",
    "\n",
    "What did it leave out?"
   ]
  },
  {
   "cell_type": "markdown",
   "id": "f537f14f",
   "metadata": {},
   "source": []
  },
  {
   "cell_type": "code",
   "execution_count": 2,
   "id": "8997c035",
   "metadata": {},
   "outputs": [],
   "source": [
    "import numpy as np\n",
    "import pandas as pd"
   ]
  },
  {
   "cell_type": "code",
   "execution_count": 7,
   "id": "f967772d",
   "metadata": {},
   "outputs": [],
   "source": [
    "# Load ORIGINAL DATASET\n",
    "path = '../data/raw/'\n",
    "filename = 'Life_Expectancy_Data.csv'\n",
    "\n",
    "df = pd.read_csv(path+filename,\n",
    "                 #header=0,\n",
    "                 usecols = ['Country','Life expectancy '])"
   ]
  },
  {
   "cell_type": "code",
   "execution_count": 9,
   "id": "fbc67962",
   "metadata": {},
   "outputs": [
    {
     "ename": "NameError",
     "evalue": "name 'unique' is not defined",
     "output_type": "error",
     "traceback": [
      "\u001b[0;31m---------------------------------------------------------------------------\u001b[0m",
      "\u001b[0;31mNameError\u001b[0m                                 Traceback (most recent call last)",
      "Cell \u001b[0;32mIn[9], line 3\u001b[0m\n\u001b[1;32m      1\u001b[0m \u001b[39m# How many nations are listed in Life Epectancy dataset?\u001b[39;00m\n\u001b[0;32m----> 3\u001b[0m unique(df)\n",
      "\u001b[0;31mNameError\u001b[0m: name 'unique' is not defined"
     ]
    }
   ],
   "source": [
    "              \n",
    "# How many nations are listed in Life Epectancy dataset?\n",
    "\n",
    "unique(df)"
   ]
  },
  {
   "cell_type": "code",
   "execution_count": 6,
   "id": "ce73c839",
   "metadata": {},
   "outputs": [
    {
     "name": "stdout",
     "output_type": "stream",
     "text": [
      "624              Cook Islands\n",
      "769                  Dominica\n",
      "1650         Marshall Islands\n",
      "1715                   Monaco\n",
      "1812                    Nauru\n",
      "1909                     Niue\n",
      "1958                    Palau\n",
      "2167    Saint Kitts and Nevis\n",
      "2216               San Marino\n",
      "2713                   Tuvalu\n",
      "Name: Country, dtype: object\n"
     ]
    }
   ],
   "source": [
    "# Display countries with missing Life Expectancy?\n",
    "\n",
    "left_out = df.loc[df['Life expectancy '].isnull()]\n",
    "\n",
    "print(left_out['Country'])"
   ]
  }
 ],
 "metadata": {
  "kernelspec": {
   "display_name": "Python 3 (ipykernel)",
   "language": "python",
   "name": "python3"
  },
  "language_info": {
   "codemirror_mode": {
    "name": "ipython",
    "version": 3
   },
   "file_extension": ".py",
   "mimetype": "text/x-python",
   "name": "python",
   "nbconvert_exporter": "python",
   "pygments_lexer": "ipython3",
   "version": "3.9.16"
  },
  "varInspector": {
   "cols": {
    "lenName": 16,
    "lenType": 16,
    "lenVar": 40
   },
   "kernels_config": {
    "python": {
     "delete_cmd_postfix": "",
     "delete_cmd_prefix": "del ",
     "library": "var_list.py",
     "varRefreshCmd": "print(var_dic_list())"
    },
    "r": {
     "delete_cmd_postfix": ") ",
     "delete_cmd_prefix": "rm(",
     "library": "var_list.r",
     "varRefreshCmd": "cat(var_dic_list()) "
    }
   },
   "types_to_exclude": [
    "module",
    "function",
    "builtin_function_or_method",
    "instance",
    "_Feature"
   ],
   "window_display": false
  },
  "vscode": {
   "interpreter": {
    "hash": "ee253db64471d3bc5400655757329a6a33de9a5ca06cae94740881a9d5095460"
   }
  }
 },
 "nbformat": 4,
 "nbformat_minor": 5
}
