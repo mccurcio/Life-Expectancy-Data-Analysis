{
 "cells": [
  {
   "attachments": {},
   "cell_type": "markdown",
   "metadata": {},
   "source": [
    "# Life Expectancy Analysis & Modeling Using WHO, UN data\n",
    "\n",
    "## Linear Model Coefficient Investigation\n",
    "\n",
    "To:&nbsp;&nbsp;&nbsp;&nbsp; [Magnimind](https://magnimindacademy.com/)\n",
    "\n",
    "From: Matt Curcio, matt.curcio.ri@gmail.com\n",
    "\n",
    "Date: 2023-01-29\n",
    "\n",
    "Re:&nbsp;&nbsp;&nbsp; NOTEBOOK #8\n",
    "\n",
    "---\n"
   ]
  },
  {
   "cell_type": "code",
   "execution_count": 7,
   "metadata": {},
   "outputs": [],
   "source": [
    "# Common Python Libraries\n",
    "import pandas as pd\n",
    "import numpy as np\n",
    "import matplotlib.pyplot as plt\n",
    "%matplotlib inline\n",
    "import seaborn as sns\n",
    "\n",
    "# import warnings\n",
    "import warnings\n",
    "warnings.filterwarnings(\"ignore\")\n",
    "\n",
    "# Loading Modeling Libaries\n",
    "from sklearn.linear_model import LinearRegression\n",
    "from sklearn import linear_model\n",
    "from sklearn.model_selection import train_test_split, cross_val_score"
   ]
  },
  {
   "cell_type": "code",
   "execution_count": 8,
   "metadata": {},
   "outputs": [
    {
     "name": "stdout",
     "output_type": "stream",
     "text": [
      "<class 'pandas.core.frame.DataFrame'>\n",
      "RangeIndex: 2928 entries, 0 to 2927\n",
      "Data columns (total 18 columns):\n",
      " #   Column          Non-Null Count  Dtype  \n",
      "---  ------          --------------  -----  \n",
      " 0   Country         2928 non-null   object \n",
      " 1   Year            2928 non-null   int64  \n",
      " 2   Status          2928 non-null   int64  \n",
      " 3   LifeExpectancy  2928 non-null   float64\n",
      " 4   AdultMort       2928 non-null   float64\n",
      " 5   EtOH            2928 non-null   float64\n",
      " 6   PercExpen       2928 non-null   float64\n",
      " 7   Measles         2928 non-null   int64  \n",
      " 8   BMI             2928 non-null   float64\n",
      " 9   lt5yD           2928 non-null   int64  \n",
      " 10  Polio           2928 non-null   float64\n",
      " 11  TotalExpen      2928 non-null   float64\n",
      " 12  DTP             2928 non-null   float64\n",
      " 13  HIV             2928 non-null   float64\n",
      " 14  Thin1_19y       2928 non-null   float64\n",
      " 15  Income          2928 non-null   float64\n",
      " 16  Education       2928 non-null   float64\n",
      " 17  Region          2928 non-null   int64  \n",
      "dtypes: float64(12), int64(5), object(1)\n",
      "memory usage: 411.9+ KB\n"
     ]
    }
   ],
   "source": [
    "path = '../data/processed/'\n",
    "fileName = 'Clean_LE_Data_FEng_4.csv'\n",
    "\n",
    "df = pd.read_csv(path+fileName, header=0)"
   ]
  },
  {
   "cell_type": "code",
   "execution_count": 10,
   "metadata": {},
   "outputs": [],
   "source": [
    "# Data splits\n",
    "\n",
    "y = df['LifeExpectancy']\n",
    "\n",
    "x = df[['Income','Education','Polio','DTP','AdultMort','HIV']]\n",
    "\n",
    "x_train, x_test, y_train, y_test = train_test_split(x, y, test_size = 0.3, random_state = 100)"
   ]
  },
  {
   "cell_type": "markdown",
   "metadata": {},
   "source": [
    "## Linear Regression Parameter Investigation"
   ]
  },
  {
   "cell_type": "code",
   "execution_count": 11,
   "metadata": {},
   "outputs": [
    {
     "name": "stdout",
     "output_type": "stream",
     "text": [
      "Intercept:  50.66478178594173\n"
     ]
    },
    {
     "data": {
      "text/plain": [
       "[('Income', 9.113970547007359),\n",
       " ('Education', 0.8860513547432141),\n",
       " ('Polio', 0.037639530276743494),\n",
       " ('DTP', 0.04333747425602766),\n",
       " ('AdultMort', -0.02244631132206054),\n",
       " ('HIV', -0.47927856071777236)]"
      ]
     },
     "execution_count": 11,
     "metadata": {},
     "output_type": "execute_result"
    }
   ],
   "source": [
    "reg_model = linear_model.LinearRegression()\n",
    "\n",
    "reg_model = LinearRegression().fit(x_train, y_train)\n",
    "\n",
    "#Printing the model coefficients\n",
    "print('Intercept: ',reg_model.intercept_)\n",
    "\n",
    "# pair the feature names with the coefficients\n",
    "list(zip(x, reg_model.coef_))"
   ]
  },
  {
   "attachments": {},
   "cell_type": "markdown",
   "metadata": {},
   "source": [
    "$$Life~Expectancy = 50.7 \\\\+ ~9.1 \\cdot Income \\\\+ 0.90 \\cdot Education \\\\+ 0.04 \\cdot Polio \\\\+ 0.04 \\cdot DTP \\\\- 0.02 \\cdot Adult~Mortality \\\\- 0.48 \\cdot HIV$$"
   ]
  },
  {
   "cell_type": "code",
   "execution_count": null,
   "metadata": {},
   "outputs": [],
   "source": []
  }
 ],
 "metadata": {
  "kernelspec": {
   "display_name": "Python 3 (ipykernel)",
   "language": "python",
   "name": "python3"
  },
  "language_info": {
   "codemirror_mode": {
    "name": "ipython",
    "version": 3
   },
   "file_extension": ".py",
   "mimetype": "text/x-python",
   "name": "python",
   "nbconvert_exporter": "python",
   "pygments_lexer": "ipython3",
   "version": "3.9.16"
  },
  "varInspector": {
   "cols": {
    "lenName": 16,
    "lenType": 16,
    "lenVar": 40
   },
   "kernels_config": {
    "python": {
     "delete_cmd_postfix": "",
     "delete_cmd_prefix": "del ",
     "library": "var_list.py",
     "varRefreshCmd": "print(var_dic_list())"
    },
    "r": {
     "delete_cmd_postfix": ") ",
     "delete_cmd_prefix": "rm(",
     "library": "var_list.r",
     "varRefreshCmd": "cat(var_dic_list()) "
    }
   },
   "types_to_exclude": [
    "module",
    "function",
    "builtin_function_or_method",
    "instance",
    "_Feature"
   ],
   "window_display": false
  },
  "vscode": {
   "interpreter": {
    "hash": "ee253db64471d3bc5400655757329a6a33de9a5ca06cae94740881a9d5095460"
   }
  }
 },
 "nbformat": 4,
 "nbformat_minor": 2
}
