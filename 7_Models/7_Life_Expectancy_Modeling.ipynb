{
 "cells": [
  {
   "attachments": {},
   "cell_type": "markdown",
   "id": "b3e8eadd",
   "metadata": {},
   "source": [
    "# Life Expectancy Analysis & Modeling Using WHO, UN data\n",
    "\n",
    "## Modeling\n",
    "\n",
    "To:&nbsp;&nbsp;&nbsp;&nbsp; [Magnimind](https://magnimindacademy.com/)\n",
    "\n",
    "From: Matt Curcio, matt.curcio.ri@gmail.com\n",
    "\n",
    "Date: 2023-01-29\n",
    "\n",
    "Re:&nbsp;&nbsp;&nbsp; NOTEBOOK #6\n",
    "\n",
    "---\n"
   ]
  },
  {
   "cell_type": "code",
   "execution_count": 8,
   "id": "2000ce6d",
   "metadata": {},
   "outputs": [],
   "source": [
    "# Common Python Libraries\n",
    "import pandas as pd\n",
    "import numpy as np\n",
    "import matplotlib.pyplot as plt\n",
    "%matplotlib inline\n",
    "import seaborn as sns\n",
    "\n",
    "# import warnings\n",
    "import warnings\n",
    "warnings.filterwarnings(\"ignore\")\n",
    "\n",
    "# Loading Regression and Modeling Libaries\n",
    "from sklearn.model_selection import cross_val_score\n",
    "from sklearn.linear_model import LinearRegression\n",
    "from sklearn.tree import DecisionTreeRegressor\n",
    "from sklearn.svm import SVR\n",
    "from sklearn.ensemble import GradientBoostingRegressor\n",
    "from sklearn.linear_model import SGDRegressor\n"
   ]
  },
  {
   "cell_type": "code",
   "execution_count": 2,
   "id": "05207097",
   "metadata": {},
   "outputs": [
    {
     "name": "stdout",
     "output_type": "stream",
     "text": [
      "Clean_LE_Data_FEng_4.csv      Life_Expectancy_Data.csv\ty_test.csv\n",
      "Clean_LE_Data_Post_EDA_3.csv  x_test.csv\t\ty_train.csv\n",
      "Clean_LE_Data_w_Means_2.csv   x_train.csv\n"
     ]
    }
   ],
   "source": [
    "!ls *.csv"
   ]
  },
  {
   "cell_type": "markdown",
   "id": "009376b1",
   "metadata": {},
   "source": [
    "### NOTE 1:\n",
    "- **Model # 1 - Use: Income, Education, HIV, DTP, Polio, lt5yD, AdultMort**"
   ]
  },
  {
   "cell_type": "code",
   "execution_count": 3,
   "id": "c059d20d",
   "metadata": {},
   "outputs": [
    {
     "data": {
      "text/html": [
       "<div>\n",
       "<style scoped>\n",
       "    .dataframe tbody tr th:only-of-type {\n",
       "        vertical-align: middle;\n",
       "    }\n",
       "\n",
       "    .dataframe tbody tr th {\n",
       "        vertical-align: top;\n",
       "    }\n",
       "\n",
       "    .dataframe thead th {\n",
       "        text-align: right;\n",
       "    }\n",
       "</style>\n",
       "<table border=\"1\" class=\"dataframe\">\n",
       "  <thead>\n",
       "    <tr style=\"text-align: right;\">\n",
       "      <th></th>\n",
       "      <th>Income</th>\n",
       "      <th>Education</th>\n",
       "      <th>HIV</th>\n",
       "      <th>DTP</th>\n",
       "      <th>Polio</th>\n",
       "      <th>lt5yD</th>\n",
       "      <th>AdultMort</th>\n",
       "    </tr>\n",
       "  </thead>\n",
       "  <tbody>\n",
       "    <tr>\n",
       "      <th>0</th>\n",
       "      <td>0.782</td>\n",
       "      <td>15.0</td>\n",
       "      <td>0.1</td>\n",
       "      <td>98.0</td>\n",
       "      <td>98.0</td>\n",
       "      <td>6</td>\n",
       "      <td>28.0</td>\n",
       "    </tr>\n",
       "    <tr>\n",
       "      <th>1</th>\n",
       "      <td>0.835</td>\n",
       "      <td>13.7</td>\n",
       "      <td>0.1</td>\n",
       "      <td>96.0</td>\n",
       "      <td>95.0</td>\n",
       "      <td>0</td>\n",
       "      <td>83.0</td>\n",
       "    </tr>\n",
       "    <tr>\n",
       "      <th>2</th>\n",
       "      <td>0.897</td>\n",
       "      <td>16.6</td>\n",
       "      <td>0.1</td>\n",
       "      <td>93.0</td>\n",
       "      <td>93.0</td>\n",
       "      <td>0</td>\n",
       "      <td>92.0</td>\n",
       "    </tr>\n",
       "    <tr>\n",
       "      <th>3</th>\n",
       "      <td>0.673</td>\n",
       "      <td>13.6</td>\n",
       "      <td>0.1</td>\n",
       "      <td>97.0</td>\n",
       "      <td>97.0</td>\n",
       "      <td>4</td>\n",
       "      <td>15.0</td>\n",
       "    </tr>\n",
       "    <tr>\n",
       "      <th>4</th>\n",
       "      <td>0.567</td>\n",
       "      <td>11.8</td>\n",
       "      <td>31.9</td>\n",
       "      <td>96.0</td>\n",
       "      <td>96.0</td>\n",
       "      <td>4</td>\n",
       "      <td>693.0</td>\n",
       "    </tr>\n",
       "  </tbody>\n",
       "</table>\n",
       "</div>"
      ],
      "text/plain": [
       "   Income  Education   HIV   DTP  Polio  lt5yD  AdultMort\n",
       "0   0.782       15.0   0.1  98.0   98.0      6       28.0\n",
       "1   0.835       13.7   0.1  96.0   95.0      0       83.0\n",
       "2   0.897       16.6   0.1  93.0   93.0      0       92.0\n",
       "3   0.673       13.6   0.1  97.0   97.0      4       15.0\n",
       "4   0.567       11.8  31.9  96.0   96.0      4      693.0"
      ]
     },
     "execution_count": 3,
     "metadata": {},
     "output_type": "execute_result"
    }
   ],
   "source": [
    "# Load X-Train \n",
    "df = pd.read_csv('x_train.csv', header=0)\n",
    "\n",
    "# Obtain predictors from Notebook #5:\n",
    "# 5_Life_Expectancy_Recursive_Feature_Elimination.ipynb\n",
    "\n",
    "predictors = ['Income', 'Education', 'HIV', 'DTP', 'Polio', 'lt5yD', 'AdultMort']\n",
    "\n",
    "x_train = df[predictors]\n",
    "\n",
    "x_train.head()"
   ]
  },
  {
   "cell_type": "code",
   "execution_count": 4,
   "id": "5fe9beda",
   "metadata": {},
   "outputs": [
    {
     "data": {
      "text/html": [
       "<div>\n",
       "<style scoped>\n",
       "    .dataframe tbody tr th:only-of-type {\n",
       "        vertical-align: middle;\n",
       "    }\n",
       "\n",
       "    .dataframe tbody tr th {\n",
       "        vertical-align: top;\n",
       "    }\n",
       "\n",
       "    .dataframe thead th {\n",
       "        text-align: right;\n",
       "    }\n",
       "</style>\n",
       "<table border=\"1\" class=\"dataframe\">\n",
       "  <thead>\n",
       "    <tr style=\"text-align: right;\">\n",
       "      <th></th>\n",
       "      <th>LifeExpectancy</th>\n",
       "    </tr>\n",
       "  </thead>\n",
       "  <tbody>\n",
       "    <tr>\n",
       "      <th>0</th>\n",
       "      <td>69.5</td>\n",
       "    </tr>\n",
       "    <tr>\n",
       "      <th>1</th>\n",
       "      <td>76.6</td>\n",
       "    </tr>\n",
       "    <tr>\n",
       "      <th>2</th>\n",
       "      <td>78.1</td>\n",
       "    </tr>\n",
       "    <tr>\n",
       "      <th>3</th>\n",
       "      <td>74.0</td>\n",
       "    </tr>\n",
       "    <tr>\n",
       "      <th>4</th>\n",
       "      <td>46.4</td>\n",
       "    </tr>\n",
       "  </tbody>\n",
       "</table>\n",
       "</div>"
      ],
      "text/plain": [
       "   LifeExpectancy\n",
       "0            69.5\n",
       "1            76.6\n",
       "2            78.1\n",
       "3            74.0\n",
       "4            46.4"
      ]
     },
     "execution_count": 4,
     "metadata": {},
     "output_type": "execute_result"
    }
   ],
   "source": [
    "# Load Y-Train\n",
    "y_train = pd.read_csv(\"y_train.csv\", header=0)\n",
    "\n",
    "y_train.head()"
   ]
  },
  {
   "cell_type": "code",
   "execution_count": 5,
   "id": "ed94eae8",
   "metadata": {},
   "outputs": [],
   "source": [
    "# Load training and testing datasets\n",
    "x_train = pd.read_csv(\"x_train.csv\", header=0)\n",
    "x_test = pd.read_csv(\"x_test.csv\", header=0)\n",
    "\n",
    "y_train = pd.read_csv(\"y_train.csv\", header=0)\n",
    "y_test = pd.read_csv(\"y_test.csv\", header=0)"
   ]
  },
  {
   "cell_type": "markdown",
   "id": "e62361dd",
   "metadata": {},
   "source": [
    "## Four algorythms were tested accuracy alone was used as a benchmark:\n",
    "\n",
    "| Model | Average % Accuracy (cv=5) |\n",
    "|:------|--------------------------:|\n",
    "| Gradient Boosting Regressor | 94.7 |\n",
    "| Decision Tree Regressor     | 88.5 |\n",
    "| Linear Regression         | 81.0 |\n",
    "| Support Vector Regressor  | 19.0 |"
   ]
  },
  {
   "cell_type": "code",
   "execution_count": 7,
   "id": "44be6847",
   "metadata": {},
   "outputs": [
    {
     "name": "stdout",
     "output_type": "stream",
     "text": [
      "[0.77353212 0.81239152 0.82021745 0.83378051 0.8123496 ]\n",
      "0.8104542396676632\n"
     ]
    }
   ],
   "source": [
    "# Linear Regression\n",
    "\n",
    "lm = LinearRegression()\n",
    "cv = cross_val_score(lm,x_train,y_train,cv=5)\n",
    "print(cv)\n",
    "print(cv.mean())"
   ]
  },
  {
   "cell_type": "code",
   "execution_count": 46,
   "id": "eedcb505",
   "metadata": {},
   "outputs": [
    {
     "name": "stdout",
     "output_type": "stream",
     "text": [
      "[0.89437976 0.86730021 0.88333376 0.89929528 0.88145511]\n",
      "0.8851528224621834\n"
     ]
    }
   ],
   "source": [
    "# Decision Tree Regressor\n",
    "\n",
    "dt = DecisionTreeRegressor(max_depth=5)\n",
    "cv = cross_val_score(dt,x_train,y_train,cv=5)\n",
    "print(cv)\n",
    "print(cv.mean())"
   ]
  },
  {
   "cell_type": "code",
   "execution_count": 49,
   "id": "55c6aa39",
   "metadata": {},
   "outputs": [
    {
     "name": "stdout",
     "output_type": "stream",
     "text": [
      "[0.24553878 0.16638795 0.22588448 0.12750496 0.18453894]\n",
      "0.1899710214514779\n"
     ]
    }
   ],
   "source": [
    "# Support Vector Regressor\n",
    "\n",
    "regr = SVR()\n",
    "cv = cross_val_score(regr,x_train,y_train,cv=5)\n",
    "print(cv)\n",
    "print(cv.mean())"
   ]
  },
  {
   "cell_type": "code",
   "execution_count": 10,
   "id": "9ec67b61",
   "metadata": {},
   "outputs": [
    {
     "name": "stdout",
     "output_type": "stream",
     "text": [
      "[0.93777862 0.94625967 0.94826961 0.95304168 0.94819837]\n",
      "0.9467095920842518\n"
     ]
    }
   ],
   "source": [
    "# CatBoost Regressor\n",
    "\n",
    "model = GradientBoostingRegressor(random_state=100)\n",
    "cv = cross_val_score(model,x_train,y_train,cv=5)\n",
    "print(cv)\n",
    "print(cv.mean())"
   ]
  }
 ],
 "metadata": {
  "kernelspec": {
   "display_name": "Python 3 (ipykernel)",
   "language": "python",
   "name": "python3"
  },
  "language_info": {
   "codemirror_mode": {
    "name": "ipython",
    "version": 3
   },
   "file_extension": ".py",
   "mimetype": "text/x-python",
   "name": "python",
   "nbconvert_exporter": "python",
   "pygments_lexer": "ipython3",
   "version": "3.9.16"
  },
  "toc": {
   "base_numbering": 1,
   "nav_menu": {},
   "number_sections": true,
   "sideBar": true,
   "skip_h1_title": true,
   "title_cell": "Table of Contents",
   "title_sidebar": "Contents",
   "toc_cell": true,
   "toc_position": {},
   "toc_section_display": true,
   "toc_window_display": false
  },
  "varInspector": {
   "cols": {
    "lenName": 16,
    "lenType": 16,
    "lenVar": 40
   },
   "kernels_config": {
    "python": {
     "delete_cmd_postfix": "",
     "delete_cmd_prefix": "del ",
     "library": "var_list.py",
     "varRefreshCmd": "print(var_dic_list())"
    },
    "r": {
     "delete_cmd_postfix": ") ",
     "delete_cmd_prefix": "rm(",
     "library": "var_list.r",
     "varRefreshCmd": "cat(var_dic_list()) "
    }
   },
   "types_to_exclude": [
    "module",
    "function",
    "builtin_function_or_method",
    "instance",
    "_Feature"
   ],
   "window_display": false
  },
  "vscode": {
   "interpreter": {
    "hash": "ee253db64471d3bc5400655757329a6a33de9a5ca06cae94740881a9d5095460"
   }
  }
 },
 "nbformat": 4,
 "nbformat_minor": 5
}
