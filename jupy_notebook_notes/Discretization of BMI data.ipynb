{
 "cells": [
  {
   "cell_type": "markdown",
   "id": "0d6eaa04",
   "metadata": {},
   "source": [
    "# 4_Feature_Engineering\n",
    "\n",
    "Categorize Countires into Regions\n",
    "\n",
    "This file takes input of  `Clean_LE_Data_Post_EDA_2.csv`  and produces output of `?????regional_data_2.csv`\n",
    "\n",
    "- This list of countries and their regions was found on the site:\n",
    "\n",
    "    https://www.thoughtco.com/official-listing-of-countries-world-region-1435153"
   ]
  },
  {
   "cell_type": "markdown",
   "id": "b76a31a2",
   "metadata": {},
   "source": [
    "## Load and Verify Data Integrity"
   ]
  },
  {
   "cell_type": "code",
   "execution_count": 1,
   "id": "bb04b6d3",
   "metadata": {},
   "outputs": [],
   "source": [
    "# Common Python Libraries\n",
    "import numpy as np\n",
    "import pandas as pd\n",
    "import matplotlib.pyplot as plt\n",
    "%matplotlib inline\n",
    "import seaborn as sns"
   ]
  },
  {
   "cell_type": "code",
   "execution_count": 3,
   "id": "2026d29a",
   "metadata": {},
   "outputs": [
    {
     "name": "stdout",
     "output_type": "stream",
     "text": [
      "<class 'pandas.core.frame.DataFrame'>\n",
      "RangeIndex: 2928 entries, 0 to 2927\n",
      "Data columns (total 15 columns):\n",
      " #   Column          Non-Null Count  Dtype   \n",
      "---  ------          --------------  -----   \n",
      " 0   Country         2928 non-null   object  \n",
      " 1   Year            2928 non-null   int64   \n",
      " 2   Status          2928 non-null   category\n",
      " 3   LifeExpectancy  2928 non-null   float64 \n",
      " 4   AdultMort       2928 non-null   float64 \n",
      " 5   EtOH            2928 non-null   float64 \n",
      " 6   BMI             2928 non-null   float64 \n",
      " 7   lt5yD           2928 non-null   int64   \n",
      " 8   Polio           2928 non-null   float64 \n",
      " 9   TotalExpen      2928 non-null   float64 \n",
      " 10  DTP             2928 non-null   float64 \n",
      " 11  HIV             2928 non-null   float64 \n",
      " 12  Thin5_9y        2928 non-null   float64 \n",
      " 13  Income          2928 non-null   float64 \n",
      " 14  Education       2928 non-null   float64 \n",
      "dtypes: category(1), float64(11), int64(2), object(1)\n",
      "memory usage: 323.4+ KB\n"
     ]
    }
   ],
   "source": [
    "filename = 'Clean_LE_Data_Post_EDA_2.csv'\n",
    "\n",
    "df = pd.read_csv(filename)\n",
    "\n",
    "# Convert object 'Status' to categorical \n",
    "df[\"Status\"] = pd.Categorical(df[\"Status\"])"
   ]
  },
  {
   "attachments": {},
   "cell_type": "markdown",
   "id": "b47d7ac0",
   "metadata": {},
   "source": [
    "## Discretization of BMI data\n",
    "\n",
    "- The BMI histogram seen in the EDA was bimodal. Therefore we will assign a categorical value to the BMI feature.\n",
    "\n",
    "- BMI's less than 35 will be assigned zero(0), while BMI's great than or equal to 35 will be one(1).\n",
    "\n",
    "|     BMI | obese |\n",
    "|--------:|------:|\n",
    "|  < 35.0 |     0 |\n",
    "| >= 35.0 |     1 |\n"
   ]
  },
  {
   "cell_type": "code",
   "execution_count": 19,
   "id": "68644cb6",
   "metadata": {},
   "outputs": [],
   "source": [
    "# Create new feature called **ge35BMI** \n",
    "df['obese'] = df['BMI'].apply(lambda x: 0 if x < 35 else 1)"
   ]
  },
  {
   "cell_type": "code",
   "execution_count": 26,
   "id": "3ccb3f69",
   "metadata": {},
   "outputs": [
    {
     "data": {
      "text/plain": [
       "count    2928.000000\n",
       "mean        0.566257\n",
       "std         0.495675\n",
       "min         0.000000\n",
       "25%         0.000000\n",
       "50%         1.000000\n",
       "75%         1.000000\n",
       "max         1.000000\n",
       "Name: ge35BMI, dtype: float64"
      ]
     },
     "execution_count": 26,
     "metadata": {},
     "output_type": "execute_result"
    }
   ],
   "source": [
    "df['obese'].describe()"
   ]
  },
  {
   "attachments": {},
   "cell_type": "markdown",
   "id": "8d690ab7",
   "metadata": {},
   "source": [
    "## Save Engineered Data for Analysis"
   ]
  },
  {
   "cell_type": "code",
   "execution_count": 28,
   "id": "a89f5a3b",
   "metadata": {},
   "outputs": [],
   "source": [
    "file_name = 'Clean_LE_Data_FEng_3.csv'\n",
    "\n",
    "df.to_csv(file_name, index=False)"
   ]
  }
 ],
 "metadata": {
  "kernelspec": {
   "display_name": "Python 3 (ipykernel)",
   "language": "python",
   "name": "python3"
  },
  "language_info": {
   "codemirror_mode": {
    "name": "ipython",
    "version": 3
   },
   "file_extension": ".py",
   "mimetype": "text/x-python",
   "name": "python",
   "nbconvert_exporter": "python",
   "pygments_lexer": "ipython3",
   "version": "3.9.16"
  },
  "toc": {
   "base_numbering": 1,
   "nav_menu": {},
   "number_sections": true,
   "sideBar": true,
   "skip_h1_title": true,
   "title_cell": "Table of Contents",
   "title_sidebar": "Contents",
   "toc_cell": true,
   "toc_position": {},
   "toc_section_display": true,
   "toc_window_display": false
  },
  "varInspector": {
   "cols": {
    "lenName": 16,
    "lenType": 16,
    "lenVar": 40
   },
   "kernels_config": {
    "python": {
     "delete_cmd_postfix": "",
     "delete_cmd_prefix": "del ",
     "library": "var_list.py",
     "varRefreshCmd": "print(var_dic_list())"
    },
    "r": {
     "delete_cmd_postfix": ") ",
     "delete_cmd_prefix": "rm(",
     "library": "var_list.r",
     "varRefreshCmd": "cat(var_dic_list()) "
    }
   },
   "position": {
    "height": "264.85px",
    "left": "1390px",
    "right": "20px",
    "top": "120px",
    "width": "350px"
   },
   "types_to_exclude": [
    "module",
    "function",
    "builtin_function_or_method",
    "instance",
    "_Feature"
   ],
   "window_display": false
  }
 },
 "nbformat": 4,
 "nbformat_minor": 5
}
