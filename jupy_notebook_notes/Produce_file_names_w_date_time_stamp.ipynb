{
 "cells": [
  {
   "cell_type": "markdown",
   "id": "eddcaf6f",
   "metadata": {
    "toc": true
   },
   "source": [
    "<h1>Table of Contents<span class=\"tocSkip\"></span></h1>\n",
    "<div class=\"toc\"><ul class=\"toc-item\"></ul></div>"
   ]
  },
  {
   "cell_type": "code",
   "execution_count": 3,
   "id": "a1a3d288",
   "metadata": {},
   "outputs": [],
   "source": [
    "# Produce_file_names_w_date_time_stamp\n",
    "\n",
    "def NamePlusDateTime(file_description, suffix='csv', period=True):\n",
    "    \"\"\"input: \n",
    "    file_description, string;\n",
    "    suffix, string;\n",
    "    \n",
    "    output: file_name_DT, string\n",
    "    \n",
    "    This function takes in a file name or desctiption\n",
    "    and returns a string with a date-time stamp and a suffix.\n",
    "    In the order: file_description + str_current_datetime + suffix\n",
    "    \"\"\"\n",
    "    \n",
    "    from datetime import datetime\n",
    "    current_datetime = datetime.now()\n",
    "    str_current_datetime = str(current_datetime)\n",
    "    if period == True:\n",
    "        dot = '.'\n",
    "    else: \n",
    "        dot = ''\n",
    "    file_name_DT = file_description + '-' + str_current_datetime + dot + suffix\n",
    "    return file_name_DT\n",
    "\n",
    "\n"
   ]
  },
  {
   "cell_type": "code",
   "execution_count": 4,
   "id": "faf36aae",
   "metadata": {},
   "outputs": [
    {
     "data": {
      "text/plain": [
       "'file_description-2023-01-28 23:18:54.856163.csv'"
      ]
     },
     "execution_count": 4,
     "metadata": {},
     "output_type": "execute_result"
    }
   ],
   "source": [
    "NamePlusDateTime('file_description')"
   ]
  },
  {
   "cell_type": "code",
   "execution_count": null,
   "id": "abc6b0d1",
   "metadata": {},
   "outputs": [],
   "source": []
  }
 ],
 "metadata": {
  "kernelspec": {
   "display_name": "Python 3 (ipykernel)",
   "language": "python",
   "name": "python3"
  },
  "language_info": {
   "codemirror_mode": {
    "name": "ipython",
    "version": 3
   },
   "file_extension": ".py",
   "mimetype": "text/x-python",
   "name": "python",
   "nbconvert_exporter": "python",
   "pygments_lexer": "ipython3",
   "version": "3.9.16"
  },
  "toc": {
   "base_numbering": 1,
   "nav_menu": {},
   "number_sections": true,
   "sideBar": true,
   "skip_h1_title": true,
   "title_cell": "Table of Contents",
   "title_sidebar": "Contents",
   "toc_cell": true,
   "toc_position": {},
   "toc_section_display": true,
   "toc_window_display": false
  },
  "varInspector": {
   "cols": {
    "lenName": 16,
    "lenType": 16,
    "lenVar": 40
   },
   "kernels_config": {
    "python": {
     "delete_cmd_postfix": "",
     "delete_cmd_prefix": "del ",
     "library": "var_list.py",
     "varRefreshCmd": "print(var_dic_list())"
    },
    "r": {
     "delete_cmd_postfix": ") ",
     "delete_cmd_prefix": "rm(",
     "library": "var_list.r",
     "varRefreshCmd": "cat(var_dic_list()) "
    }
   },
   "types_to_exclude": [
    "module",
    "function",
    "builtin_function_or_method",
    "instance",
    "_Feature"
   ],
   "window_display": false
  }
 },
 "nbformat": 4,
 "nbformat_minor": 5
}
