{
 "cells": [
  {
   "cell_type": "code",
   "execution_count": 1,
   "id": "5a651c88",
   "metadata": {},
   "outputs": [],
   "source": [
    "import numpy as np\n",
    "import pandas as pd\n",
    "from sklearn.linear_model import LinearRegression\n",
    "import matplotlib.pyplot as plt\n",
    "import plotly.express as px"
   ]
  },
  {
   "cell_type": "code",
   "execution_count": 2,
   "id": "103cf03d",
   "metadata": {},
   "outputs": [],
   "source": [
    "filename = 'Life_Expectancy_Data.csv'\n",
    "\n",
    "column_names = ['Country','Year','Status','LifeExpectancy','AdultMort',\n",
    "                'InfD','EtOH','PercExpen','HepB','Measles',\n",
    "                'BMI','lt5yD','Polio','TotalExpen','DTP','HIV',\n",
    "                'GDP','Population','Thin1_19y','Thin5_9y','Income',\n",
    "                'Education']\n",
    "\n",
    "df = pd.read_csv('/home/mcc/Dropbox/01-Magni-mind/1-WHO-life-expectancy/groupby_test/Life_Expectancy_Data.csv', \n",
    "                 names=column_names, \n",
    "                 header=0)"
   ]
  },
  {
   "cell_type": "code",
   "execution_count": 3,
   "id": "6c51cfa1",
   "metadata": {},
   "outputs": [],
   "source": [
    "df.dropna(subset=['LifeExpectancy'], inplace=True) # 10 rows deleted\n",
    "\n",
    "df.drop(['Population', 'HepB', 'GDP'], axis=1, inplace=True)\n",
    "\n",
    "df['InfD'].fillna(np.mean(df.InfD), inplace=True)\n",
    "df['EtOH'].fillna(np.mean(df.EtOH), inplace=True)\n",
    "df['PercExpen'].fillna(np.mean(df.PercExpen), inplace=True)\n",
    "df['Measles'].fillna(np.mean(df.Measles), inplace=True)\n",
    "df['BMI'].fillna(np.mean(df.BMI), inplace=True)\n",
    "df['Polio'].fillna(np.mean(df.Polio), inplace=True)\n",
    "df['TotalExpen'].fillna(np.mean(df.TotalExpen), inplace=True)\n",
    "df['DTP'].fillna(np.mean(df.DTP), inplace=True)\n",
    "df['Thin1_19y'].fillna(np.mean(df.Thin1_19y), inplace=True)\n",
    "df['Thin5_9y'].fillna(np.mean(df.Thin5_9y), inplace=True)\n",
    "df['Income'].fillna(np.mean(df.Income), inplace=True)\n",
    "df['Education'].fillna(np.mean(df.Education), inplace=True)\n",
    "\n",
    "# Convert Dev status to a binary variable, where Developing Nations = 0, Developed Nation status = 1.\n",
    "df['Status'] = df['Status'].apply(lambda x: 0 if x == 'Developing' else 1).astype('int8')"
   ]
  },
  {
   "cell_type": "code",
   "execution_count": 4,
   "id": "9f2d2c7a",
   "metadata": {},
   "outputs": [
    {
     "name": "stdout",
     "output_type": "stream",
     "text": [
      "\n",
      "Shape of Cleaned and Imputed dataframe: (2928, 19)\n"
     ]
    },
    {
     "data": {
      "text/plain": [
       "Country           0\n",
       "Year              0\n",
       "Status            0\n",
       "LifeExpectancy    0\n",
       "AdultMort         0\n",
       "InfD              0\n",
       "EtOH              0\n",
       "PercExpen         0\n",
       "Measles           0\n",
       "BMI               0\n",
       "lt5yD             0\n",
       "Polio             0\n",
       "TotalExpen        0\n",
       "DTP               0\n",
       "HIV               0\n",
       "Thin1_19y         0\n",
       "Thin5_9y          0\n",
       "Income            0\n",
       "Education         0\n",
       "dtype: int64"
      ]
     },
     "execution_count": 4,
     "metadata": {},
     "output_type": "execute_result"
    }
   ],
   "source": [
    "print('\\nShape of Cleaned and Imputed dataframe:', df.shape)\n",
    "      \n",
    "df.isnull().sum()"
   ]
  },
  {
   "cell_type": "code",
   "execution_count": 5,
   "id": "2996d157",
   "metadata": {},
   "outputs": [
    {
     "data": {
      "text/plain": [
       "<pandas.core.groupby.generic.DataFrameGroupBy object at 0x7fd6304bc610>"
      ]
     },
     "execution_count": 5,
     "metadata": {},
     "output_type": "execute_result"
    }
   ],
   "source": [
    "# group the data by country\n",
    "grouped = df.groupby(\"Country\")\n",
    "grouped"
   ]
  },
  {
   "cell_type": "code",
   "execution_count": 6,
   "id": "acb26c1d",
   "metadata": {},
   "outputs": [
    {
     "ename": "NameError",
     "evalue": "name 'traces' is not defined",
     "output_type": "error",
     "traceback": [
      "\u001b[0;31m---------------------------------------------------------------------------\u001b[0m",
      "\u001b[0;31mNameError\u001b[0m                                 Traceback (most recent call last)",
      "\u001b[0;32m/tmp/ipykernel_17047/1785259137.py\u001b[0m in \u001b[0;36m<module>\u001b[0;34m\u001b[0m\n\u001b[1;32m     13\u001b[0m \u001b[0;34m\u001b[0m\u001b[0m\n\u001b[1;32m     14\u001b[0m     \u001b[0;31m# add a scatter trace for the life expectancy data\u001b[0m\u001b[0;34m\u001b[0m\u001b[0;34m\u001b[0m\u001b[0m\n\u001b[0;32m---> 15\u001b[0;31m     \u001b[0mtraces\u001b[0m\u001b[0;34m.\u001b[0m\u001b[0mappend\u001b[0m\u001b[0;34m(\u001b[0m\u001b[0mpx\u001b[0m\u001b[0;34m.\u001b[0m\u001b[0mscatter\u001b[0m\u001b[0;34m(\u001b[0m\u001b[0mx\u001b[0m\u001b[0;34m=\u001b[0m\u001b[0myear\u001b[0m\u001b[0;34m[\u001b[0m\u001b[0;34m:\u001b[0m\u001b[0;34m,\u001b[0m \u001b[0;36m0\u001b[0m\u001b[0;34m]\u001b[0m\u001b[0;34m,\u001b[0m \u001b[0my\u001b[0m\u001b[0;34m=\u001b[0m\u001b[0mlife_expectancy\u001b[0m\u001b[0;34m[\u001b[0m\u001b[0;34m:\u001b[0m\u001b[0;34m,\u001b[0m \u001b[0;36m0\u001b[0m\u001b[0;34m]\u001b[0m\u001b[0;34m,\u001b[0m \u001b[0mmode\u001b[0m\u001b[0;34m=\u001b[0m\u001b[0;34m\"markers\"\u001b[0m\u001b[0;34m,\u001b[0m \u001b[0mname\u001b[0m\u001b[0;34m=\u001b[0m\u001b[0mname\u001b[0m\u001b[0;34m)\u001b[0m\u001b[0;34m)\u001b[0m\u001b[0;34m\u001b[0m\u001b[0;34m\u001b[0m\u001b[0m\n\u001b[0m\u001b[1;32m     16\u001b[0m \u001b[0;34m\u001b[0m\u001b[0m\n\u001b[1;32m     17\u001b[0m     \u001b[0;31m# add a line trace for the regression line\u001b[0m\u001b[0;34m\u001b[0m\u001b[0;34m\u001b[0m\u001b[0m\n",
      "\u001b[0;31mNameError\u001b[0m: name 'traces' is not defined"
     ]
    }
   ],
   "source": [
    "# loop through each group (i.e. country)\n",
    "for name, group in grouped:\n",
    "    # get the year and life expectancy values for this country\n",
    "    Year = group[\"Year\"].values.reshape(-1, 1)\n",
    "    LifeExpectancy = group[\"LifeExpectancy\"].values.reshape(-1, 1)\n",
    "    MeanAge = np.mean(group[\"LifeExpectancy\"])\n",
    "    \n",
    "    # fit a linear regression model\n",
    "    model = LinearRegression().fit(Year, LifeExpectancy)\n",
    "    \n",
    "    # get the slope of the fitted line\n",
    "    slope = model.coef_[0][0]\n",
    "    \n",
    "    # add a scatter trace for the life expectancy data\n",
    "    traces.append(px.scatter(x=year[:, 0], y=life_expectancy[:, 0], mode=\"markers\", name=name))\n",
    "    \n",
    "    # add a line trace for the regression line\n",
    "    traces.append(px.line(x=year[:, 0], y=model.predict(year).flatten(), name=f\"{name} (regression line)\"))\n",
    "\n",
    "# show the plot\n",
    "px.subplot(traces)\n",
    "\n",
    "    # check if the slope is positive (increasing) or negative (decreasing)\n",
    "    #if slope > 0:\n",
    "    #    print(f\"{name} is Increasing, coeff={model.coef_}, Age={MeanAge}\")\n",
    "    #else:\n",
    "    #    print(f\"{name} is Decreasing, coeff={model.coef_}, Age={MeanAge}\")\n",
    "           \n",
    "    # plot the life expectancy over time for this country\n",
    "    #plt.scatter(MeanAge, model.coef_, label=name)\n",
    "    #plt.plot(year, model.predict(year), label=f\"{name} (regression line)\")\n",
    "\n",
    "# add a legend and show the plot\n",
    "# plt.axhline(y=0, color='red', linestyle='--')\n",
    "# plt.legend().remove()\n",
    "# plt.title(\"Age(Y) Vs Growth Rate for 193 Countries\")\n",
    "# plt.xlabel('Age (Yr)')\n",
    "# plt.ylabel('Growth Rate')\n",
    "# plt.show()    "
   ]
  },
  {
   "cell_type": "code",
   "execution_count": null,
   "id": "2eae12a5",
   "metadata": {},
   "outputs": [],
   "source": [
    "import pandas as pd\n",
    "from sklearn.linear_model import LinearRegression\n",
    "import plotly.express as px\n",
    "\n",
    "# load the data\n",
    "data = pd.read_csv(\"https://www.kaggle.com/datasets/kumarajarshi/life-expectancy-who/life-expectancy-who.zip\")\n",
    "\n",
    "# group the data by country\n",
    "grouped = data.groupby(\"Country\")\n",
    "\n",
    "# list to store the scatter and line traces for each country\n",
    "traces = []\n",
    "\n",
    "# loop through each group (i.e. country)\n",
    "for name, group in grouped:\n",
    "    # get the year and life expectancy values for this country\n",
    "    year = group[\"Year\"].values.reshape(-1, 1)\n",
    "    life_expectancy = group[\"Life expectancy \"].values.reshape(-1, 1)\n",
    "    \n",
    "    # fit a linear regression model\n",
    "    model = LinearRegression().fit(year, life_expectancy)\n",
    "    \n",
    "    # get the slope of the fitted line\n",
    "    slope = model.coef_[0][0]\n",
    "    \n",
    "    # check if the slope is positive (increasing) or negative (decreasing)\n",
    "    if slope > 0:\n",
    "        print(f\"Life expectancy in {name} is increasing over the 15 year period.\")\n",
    "    else:\n",
    "        print(f\"Life expectancy in {name} is decreasing over the 15 year period.\")\n",
    "    \n",
    "    # add a scatter trace for the life expectancy data\n",
    "    traces.append(px.scatter(x=year[:, 0], y=life_expectancy[:, 0], mode=\"markers\", name=name))\n",
    "    \n",
    "    # add a line trace for the regression line\n",
    "    traces.append(px.line(x=year[:, 0], y=model.predict(year).flatten(), name=f\"{name} (regression line)\"))\n",
    "\n",
    "# show the plot\n",
    "px.subplot(traces)\n"
   ]
  }
 ],
 "metadata": {
  "kernelspec": {
   "display_name": "Python 3 (ipykernel)",
   "language": "python",
   "name": "python3"
  },
  "language_info": {
   "codemirror_mode": {
    "name": "ipython",
    "version": 3
   },
   "file_extension": ".py",
   "mimetype": "text/x-python",
   "name": "python",
   "nbconvert_exporter": "python",
   "pygments_lexer": "ipython3",
   "version": "3.9.16"
  },
  "toc": {
   "base_numbering": 1,
   "nav_menu": {},
   "number_sections": true,
   "sideBar": true,
   "skip_h1_title": true,
   "title_cell": "Table of Contents",
   "title_sidebar": "Contents",
   "toc_cell": true,
   "toc_position": {},
   "toc_section_display": true,
   "toc_window_display": false
  },
  "varInspector": {
   "cols": {
    "lenName": 16,
    "lenType": 16,
    "lenVar": 40
   },
   "kernels_config": {
    "python": {
     "delete_cmd_postfix": "",
     "delete_cmd_prefix": "del ",
     "library": "var_list.py",
     "varRefreshCmd": "print(var_dic_list())"
    },
    "r": {
     "delete_cmd_postfix": ") ",
     "delete_cmd_prefix": "rm(",
     "library": "var_list.r",
     "varRefreshCmd": "cat(var_dic_list()) "
    }
   },
   "types_to_exclude": [
    "module",
    "function",
    "builtin_function_or_method",
    "instance",
    "_Feature"
   ],
   "window_display": false
  }
 },
 "nbformat": 4,
 "nbformat_minor": 5
}
