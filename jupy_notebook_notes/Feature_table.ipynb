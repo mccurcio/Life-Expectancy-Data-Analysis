{
 "cells": [
  {
   "attachments": {},
   "cell_type": "markdown",
   "id": "90d7c48b",
   "metadata": {},
   "source": [
    "\n",
    "https://www.kaggle.com/discussions/general/60603\n",
    "\n",
    "                \n",
    "| **List Of Features** | **Description** |\n",
    "|:---------------------|:----------------|\n",
    "| **Year** |  Year  |\n",
    "| **Cntry** |   Country |\n",
    "| **Dev** |  Developed or Not |\n",
    "| **GDP** |  Gross Domestic Product per capita (in USD) |\n",
    "| **T_Expen** |    Total Expenditure |\n",
    "| **Per_Expen** |   Percent Expenditure |\n",
    "| **Income** |   Income composition of resources, Human Development Index |\n",
    "| **Pop** |   Population of country |\n",
    "| **Ed** |  Years of Education |\n",
    "| **EtOH** |  Alcohol consumption, litres of pure alcohol per capita  |\n",
    "| **HepB** |   Hepatitis B: % immunization coverage among 1-year-olds |\n",
    "| **Measles** |   Number of reported cases per 1,000 population |\n",
    "| **Diph** |    Diphtheria, tetanus toxoid & pertussis % immunization coverage among 1-year-olds |\n",
    "| **Polio** |   Pol3: % immunization coverage among 1-year-olds |\n",
    "| **HIV** |   HIV/AIDS: Deaths per 1,000 (0-4 years) |\n",
    "| **BMI** |   Average Body Mass Index of entire population |\n",
    "| **A_Mort** |  Adult Mortality Rates of both sexes (probability of dying between 15 and 60 years per 1000 population) \n",
    "| **Inf_D** |   Number of Infant Deaths per 1,000 population |\n",
    "| **lt5y_D** |  Number of under-five deaths per 1,000 population |\n",
    "| **Th_1-19y** |  % Prevalence of thinness among children and adolescents 10 < Age < 19 |\n",
    "| **Th_5-9y** |  % Prevalence of thinness among children and adolescents 5 < Age < 9 |\n",
    "| **L_Expec** |   Life Expectancy (Yr) |"
   ]
  }
 ],
 "metadata": {
  "kernelspec": {
   "display_name": "Python 3",
   "language": "python",
   "name": "python3"
  },
  "language_info": {
   "codemirror_mode": {
    "name": "ipython",
    "version": 3
   },
   "file_extension": ".py",
   "mimetype": "text/x-python",
   "name": "python",
   "nbconvert_exporter": "python",
   "pygments_lexer": "ipython3",
   "version": "3.10.6"
  },
  "toc": {
   "base_numbering": 1,
   "nav_menu": {},
   "number_sections": true,
   "sideBar": true,
   "skip_h1_title": true,
   "title_cell": "Table of Contents",
   "title_sidebar": "Contents",
   "toc_cell": true,
   "toc_position": {},
   "toc_section_display": true,
   "toc_window_display": false
  },
  "varInspector": {
   "cols": {
    "lenName": 16,
    "lenType": 16,
    "lenVar": 40
   },
   "kernels_config": {
    "python": {
     "delete_cmd_postfix": "",
     "delete_cmd_prefix": "del ",
     "library": "var_list.py",
     "varRefreshCmd": "print(var_dic_list())"
    },
    "r": {
     "delete_cmd_postfix": ") ",
     "delete_cmd_prefix": "rm(",
     "library": "var_list.r",
     "varRefreshCmd": "cat(var_dic_list()) "
    }
   },
   "types_to_exclude": [
    "module",
    "function",
    "builtin_function_or_method",
    "instance",
    "_Feature"
   ],
   "window_display": false
  },
  "vscode": {
   "interpreter": {
    "hash": "916dbcbb3f70747c44a77c7bcd40155683ae19c65e1c03b4aa3499c5328201f1"
   }
  }
 },
 "nbformat": 4,
 "nbformat_minor": 5
}
