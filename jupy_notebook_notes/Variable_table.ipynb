{
 "cells": [
  {
   "cell_type": "markdown",
   "id": "7f19f8ea",
   "metadata": {},
   "source": [
    "### Project Planning\n",
    "\n",
    "- [Initial Data Analysis](2_Life_Expectancy_Initial_Data_Analysis.ipynb)\n",
    "- [Exploratory Data Analysis](3_Life_Expectancy_EDA.ipynb)\n",
    "- [Exploratory Data Analysis #2](4_Life_Expectancy_Exploratory_Data_Analysis_PART2.ipynb)\n",
    "- [Pandas Profiling Library](../reports/Test_Pandas_Profiling_Report.ipynb) \n",
    "- [Feature Engineering](5_Life_Expectancy_Feature_Engineering.ipynb)\n",
    "- [Recursive Feature Elimination](6_Life_Expectancy_Recursive_Feature_Elimination.ipynb)\n",
    "- [Modeling](7_Life_Expectancy_Modeling.ipynb) \n",
    "- [Discussion of Linear Model](8-Life_Expectancy_Linear_Coefficients.ipynb)\n",
    "- [Results](8-Life_Expectancy_Groupings.ipynb)\n",
    "\n",
    "---"
   ]
  },
  {
   "cell_type": "markdown",
   "id": "1c2b6b22",
   "metadata": {},
   "source": [
    "\n",
    "| **Response Variable** |      **Description** |\n",
    "|:----------------------|:---------------------|\n",
    "|    **LifeExpectancy** | Life Expectancy (Yr) |\n",
    "\n",
    "**<p style=\"color:green;\">Green indicates feature used in final model</p>**\n",
    "**<p style=\"color:blue;\">Blue indicates feature of questionable importance</p>**\n",
    "**<p style=\"color:orange;\">Orange indicates dropped due to high collinearity</p>**\n",
    "**<p style=\"color:red;\">Red indicates dropped due to missing values greater than 15%</p>**\n",
    "\n",
    "| **List Of Features** | **Description** |\n",
    "|:---------------------|:----------------|\n",
    "| **<p style=\"color:green;\">Income</p>** | Income composition of resources, Human Development Index |\n",
    "| **<p style=\"color:green;\">Education</p>** | Years of Education |\n",
    "| **<p style=\"color:green;\">HIV</p>** | HIV/AIDS: Deaths per 1,000 |\n",
    "| **<p style=\"color:green;\">DTP</p>** | Diphtheria, tetanus toxoid & pertussis % immunization coverage among 1-year-olds |\n",
    "| **<p style=\"color:green;\">Polio</p>** | Pol3: % immunization coverage among 1-year-olds |\n",
    "| **<p style=\"color:green;\">AdultMort</p>** | Adult Mortality Rates of both sexes (probability of dying between 15 and 60 years per 1000 population) |\n",
    "| **<p style=\"color:blue;\">Year</p>** |  Year   |\n",
    "| **<p style=\"color:blue;\">Country</p>** |   Country |\n",
    "| **<p style=\"color:blue;\">Status</p>** |  Developed(1) or Developing(0) |\n",
    "| **<p style=\"color:blue;\">BMI</p>** |   Average Body Mass Index of entire population |\n",
    "| **<p style=\"color:blue;\">lt5yD</p>** |  Number of under-five deaths per 1,000 population |\n",
    "| **<p style=\"color:blue;\">Thin1_19y</p>** |  % Prevalence of thinness among children and adolescents 10 < Age < 19 |\n",
    "| **<p style=\"color:blue;\">TotalExpen</p>** |    Total Expenditure |\n",
    "| **<p style=\"color:blue;\">PercExpen</p>** |   Percent Expenditure |\n",
    "| **<p style=\"color:blue;\">EtOH</p>** |  Alcohol consumption, litres of pure alcohol per capita  |\n",
    "| **<p style=\"color:blue;\">Measles</p>** |   Number of reported cases per 1,000 population |\n",
    "| **<p style=\"color:orange;\">Thin5_9y</p>** |  % Prevalence of thinness among children and adolescents 5 < Age < 9 |\n",
    "| **<p style=\"color:orange;\">InfD</p>** |   Number of Infant Deaths per 1,000 population |\n",
    "| **<p style=\"color:red;\">HepB</p>** | Hepatitis B: % immunization coverage among 1-year-olds |\n",
    "| **<p style=\"color:red;\">Population</p>** | Population of country |\n",
    "| **<p style=\"color:red;\">GDP</p>** | Gross Domestic Product per capita (in USD) |\n",
    "\n"
   ]
  }
 ],
 "metadata": {
  "kernelspec": {
   "display_name": "Python 3",
   "language": "python",
   "name": "python3"
  },
  "language_info": {
   "codemirror_mode": {
    "name": "ipython",
    "version": 3
   },
   "file_extension": ".py",
   "mimetype": "text/x-python",
   "name": "python",
   "nbconvert_exporter": "python",
   "pygments_lexer": "ipython3",
   "version": "3.10.6"
  },
  "toc": {
   "base_numbering": 1,
   "nav_menu": {},
   "number_sections": true,
   "sideBar": true,
   "skip_h1_title": true,
   "title_cell": "Table of Contents",
   "title_sidebar": "Contents",
   "toc_cell": true,
   "toc_position": {
    "height": "calc(100% - 180px)",
    "left": "10px",
    "top": "150px",
    "width": "165px"
   },
   "toc_section_display": true,
   "toc_window_display": false
  },
  "varInspector": {
   "cols": {
    "lenName": 16,
    "lenType": 16,
    "lenVar": 40
   },
   "kernels_config": {
    "python": {
     "delete_cmd_postfix": "",
     "delete_cmd_prefix": "del ",
     "library": "var_list.py",
     "varRefreshCmd": "print(var_dic_list())"
    },
    "r": {
     "delete_cmd_postfix": ") ",
     "delete_cmd_prefix": "rm(",
     "library": "var_list.r",
     "varRefreshCmd": "cat(var_dic_list()) "
    }
   },
   "types_to_exclude": [
    "module",
    "function",
    "builtin_function_or_method",
    "instance",
    "_Feature"
   ],
   "window_display": false
  },
  "vscode": {
   "interpreter": {
    "hash": "916dbcbb3f70747c44a77c7bcd40155683ae19c65e1c03b4aa3499c5328201f1"
   }
  }
 },
 "nbformat": 4,
 "nbformat_minor": 5
}
